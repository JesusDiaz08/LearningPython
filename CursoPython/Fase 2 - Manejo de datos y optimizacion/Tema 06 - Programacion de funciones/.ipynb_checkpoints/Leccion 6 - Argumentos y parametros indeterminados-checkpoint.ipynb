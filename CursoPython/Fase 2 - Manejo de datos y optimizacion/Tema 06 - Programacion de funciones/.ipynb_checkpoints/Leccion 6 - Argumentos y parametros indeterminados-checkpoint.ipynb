{
 "cells": [
  {
   "cell_type": "markdown",
   "metadata": {},
   "source": [
    "# Parametros y argumentos indeterminados\n",
    "- ¿Que pasa si le mandamos un numero indeterminado de parametros?\n",
    "> Bueno, hay dos maneras de gestionar esto: Por posición y por nombre.\n",
    "\n",
    "Para esto, Python utiliza dos manera distintas de gestionar los valores indeterminados.\n",
    "\n",
    "### ITERABLE"
   ]
  },
  {
   "cell_type": "code",
   "execution_count": 1,
   "metadata": {},
   "outputs": [
    {
     "name": "stdout",
     "output_type": "stream",
     "text": [
      "(1, True, [1, 2, 3, 4], 'Hola')\n"
     ]
    }
   ],
   "source": [
    "# * args : Es un iterable\n",
    "# Es usado al pasar parametros por posicion\n",
    "def indeterminados_posicion(* args):\n",
    "    print(args)\n",
    "indeterminados_posicion(1,True,[1,2,3,4],\"Hola\")   # Devuelve una tupla"
   ]
  },
  {
   "cell_type": "code",
   "execution_count": 2,
   "metadata": {},
   "outputs": [
    {
     "name": "stdout",
     "output_type": "stream",
     "text": [
      "1\n",
      "True\n",
      "[1, 2, 3, 4]\n",
      "Hola\n"
     ]
    }
   ],
   "source": [
    "# * args : Es un iterable\n",
    "def indeterminados_posicion(* args):\n",
    "    for i in args:\n",
    "        print(i)\n",
    "indeterminados_posicion(1,True,[1,2,3,4],\"Hola\")   # Devuelve una tupla"
   ]
  },
  {
   "cell_type": "markdown",
   "metadata": {},
   "source": [
    "### DICCIONARIO"
   ]
  },
  {
   "cell_type": "code",
   "execution_count": 4,
   "metadata": {},
   "outputs": [
    {
     "name": "stdout",
     "output_type": "stream",
     "text": [
      "{'n': 5, 'b': True, 'l': [1, 2, 3], 's': 'Hola'}\n"
     ]
    }
   ],
   "source": [
    "# En vez de gestionarlo con un iterable, usamos un diccionario\n",
    "# **kwargs : Key Words Args - Es un diccionario\n",
    "# Es usado al pasar parametros por nombre\n",
    "def indeterminados_nombre(** kwargs):\n",
    "    print(kwargs)\n",
    "\n",
    "indeterminados_nombre( n = 5, b = True, l = [1,2,3], s = \"Hola\")"
   ]
  },
  {
   "cell_type": "code",
   "execution_count": 5,
   "metadata": {},
   "outputs": [
    {
     "name": "stdout",
     "output_type": "stream",
     "text": [
      "n\n",
      "b\n",
      "l\n",
      "s\n"
     ]
    }
   ],
   "source": [
    "# En vez de gestionarlo con un iterable, usamos un diccionario\n",
    "# **kwargs : Key Words Args - Es un diccionario\n",
    "def indeterminados_nombre(** kwargs):\n",
    "    for kwarg in kwargs:\n",
    "        print(kwarg)\n",
    "\n",
    "indeterminados_nombre( n = 5, b = True, l = [1,2,3], s = \"Hola\")"
   ]
  },
  {
   "cell_type": "code",
   "execution_count": 8,
   "metadata": {},
   "outputs": [
    {
     "name": "stdout",
     "output_type": "stream",
     "text": [
      "n has  5\n",
      "b has  True\n",
      "l has  [1, 2, 3]\n",
      "s has  Hola\n"
     ]
    }
   ],
   "source": [
    "# En vez de gestionarlo con un iterable, usamos un diccionario\n",
    "# **kwargs : Key Words Args - Es un diccionario\n",
    "def indeterminados_nombre(** kwargs):\n",
    "    for kwarg in kwargs:\n",
    "        print(kwarg, \"has \", kwargs[kwarg])\n",
    "\n",
    "indeterminados_nombre( n = 5, b = True, l = [1,2,3], s = \"Hola\")"
   ]
  },
  {
   "cell_type": "code",
   "execution_count": 11,
   "metadata": {},
   "outputs": [
    {
     "name": "stdout",
     "output_type": "stream",
     "text": [
      "Sumatorio indeterminado es  204.86\n",
      "nombre - Hector\n",
      "edad - 27\n"
     ]
    }
   ],
   "source": [
    "# Supon que quieres una super_funcion que sume todos los valores\n",
    "# que le pasen, pero no sabes cuantos argumentos serán\n",
    "\n",
    "def super_funcion(* args, **kwargs):\n",
    "    total = 0 \n",
    "    \n",
    "    # Utilizando posiciones\n",
    "    for arg in args:\n",
    "        total += arg\n",
    "    print(\"Sumatorio indeterminado es \", total)\n",
    "    \n",
    "    # Utilizando el diccionario\n",
    "    for kwarg in kwargs:\n",
    "        print(kwarg, \"-\", kwargs[kwarg])\n",
    "\n",
    "super_funcion(10,50,-1,1.56,2,43,54,2.3,43, nombre = \"Hector\", edad = 27)"
   ]
  }
 ],
 "metadata": {
  "kernelspec": {
   "display_name": "Python 3",
   "language": "python",
   "name": "python3"
  },
  "language_info": {
   "codemirror_mode": {
    "name": "ipython",
    "version": 3
   },
   "file_extension": ".py",
   "mimetype": "text/x-python",
   "name": "python",
   "nbconvert_exporter": "python",
   "pygments_lexer": "ipython3",
   "version": "3.7.3"
  }
 },
 "nbformat": 4,
 "nbformat_minor": 1
}
