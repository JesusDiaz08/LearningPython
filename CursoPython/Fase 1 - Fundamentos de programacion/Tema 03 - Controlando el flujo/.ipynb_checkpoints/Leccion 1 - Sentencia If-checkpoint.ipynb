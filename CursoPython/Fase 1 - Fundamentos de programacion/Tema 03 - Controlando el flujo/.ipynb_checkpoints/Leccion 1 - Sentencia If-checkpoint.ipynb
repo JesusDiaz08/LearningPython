{
 "cells": [
  {
   "cell_type": "markdown",
   "metadata": {
    "collapsed": true
   },
   "source": [
    "# Sentencia if\n",
    "Permite condicionar el flujo de un programa. \n",
    "Le permite al ordenador ***\"tomar decisiones\"*** \n",
    "\n",
    "- Se necesita identar para especificar el bloque de código\n",
    "- Viene de la mano de la preposición *else* = *sino*"
   ]
  },
  {
   "cell_type": "code",
   "execution_count": 2,
   "metadata": {},
   "outputs": [
    {
     "name": "stdout",
     "output_type": "stream",
     "text": [
      "Hola mundo\n",
      "Se cumple la condicion\n"
     ]
    }
   ],
   "source": [
    "if True:\n",
    "    print(\"Hola mundo\")\n",
    "    print(\"Se cumple la condicion\")"
   ]
  },
  {
   "cell_type": "code",
   "execution_count": 3,
   "metadata": {},
   "outputs": [
    {
     "name": "stdout",
     "output_type": "stream",
     "text": [
      "Escribe un 2 o 55\n",
      "Es un 5 lo que ingresaste\n"
     ]
    }
   ],
   "source": [
    "a = int(input(\"Escribe un 2 o 5\"))\n",
    "if a == 5:\n",
    "    print (\"Es un 5 lo que ingresaste\")\n",
    "if a == 2:\n",
    "    print (\"Es un 2 lo que ingresaste\")"
   ]
  },
  {
   "cell_type": "code",
   "execution_count": 7,
   "metadata": {},
   "outputs": [
    {
     "name": "stdout",
     "output_type": "stream",
     "text": [
      "Escribe un número: 8\n",
      "Escribe otro numero: 9\n",
      "Escribe el ultimo: 10\n",
      "10 es el mas grande\n"
     ]
    }
   ],
   "source": [
    "a = int(input(\"Escribe un número: \"))\n",
    "b = int(input(\"Escribe otro numero: \"))\n",
    "c = int(input(\"Escribe el ultimo: \"))\n",
    "if a > b:\n",
    "    if a > c:\n",
    "        print(a,\"es el mas grande\")\n",
    "    else:\n",
    "        print(c,\"es el mas grande\")\n",
    "elif b > c:\n",
    "    print(b,\"es el mas grande\");\n",
    "else:\n",
    "    print(c,\"es el mas grande\")"
   ]
  },
  {
   "cell_type": "code",
   "execution_count": 8,
   "metadata": {},
   "outputs": [
    {
     "name": "stdout",
     "output_type": "stream",
     "text": [
      "a vale 5 y b vale 10\n"
     ]
    }
   ],
   "source": [
    "a = 5\n",
    "b = 10\n",
    "if a == 5 and b == 10:\n",
    "    print(\"a vale 5 y b vale 10\")"
   ]
  },
  {
   "cell_type": "code",
   "execution_count": 9,
   "metadata": {},
   "outputs": [
    {
     "name": "stdout",
     "output_type": "stream",
     "text": [
      "N = 78\n",
      "Numero par\n"
     ]
    }
   ],
   "source": [
    "num = int(input(\"N = \"))\n",
    "if(num % 2 == 0):\n",
    "    print (\"Numero par\")\n",
    "else:\n",
    "    print (\"Numero impar\")"
   ]
  },
  {
   "cell_type": "code",
   "execution_count": null,
   "metadata": {},
   "outputs": [],
   "source": []
  }
 ],
 "metadata": {
  "kernelspec": {
   "display_name": "Python 3",
   "language": "python",
   "name": "python3"
  },
  "language_info": {
   "codemirror_mode": {
    "name": "ipython",
    "version": 3
   },
   "file_extension": ".py",
   "mimetype": "text/x-python",
   "name": "python",
   "nbconvert_exporter": "python",
   "pygments_lexer": "ipython3",
   "version": "3.6.4"
  }
 },
 "nbformat": 4,
 "nbformat_minor": 1
}
