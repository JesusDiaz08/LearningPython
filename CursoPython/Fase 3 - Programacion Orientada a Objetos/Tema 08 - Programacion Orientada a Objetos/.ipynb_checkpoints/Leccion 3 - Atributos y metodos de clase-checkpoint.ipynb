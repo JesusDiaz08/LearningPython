{
 "cells": [
  {
   "cell_type": "code",
   "execution_count": 1,
   "metadata": {},
   "outputs": [],
   "source": [
    "class Galleta:\n",
    "    pass\n",
    "\n",
    "una_galleta = Galleta()"
   ]
  },
  {
   "cell_type": "code",
   "execution_count": 2,
   "metadata": {},
   "outputs": [],
   "source": [
    "una_galleta.sabor = \"Salado\""
   ]
  },
  {
   "cell_type": "code",
   "execution_count": 3,
   "metadata": {},
   "outputs": [],
   "source": [
    "una_galleta.color = \"Marron\""
   ]
  },
  {
   "cell_type": "markdown",
   "metadata": {},
   "source": [
    "> __Podemos difinir los atributos de la clase fuera de ella__"
   ]
  },
  {
   "cell_type": "code",
   "execution_count": 5,
   "metadata": {},
   "outputs": [
    {
     "name": "stdout",
     "output_type": "stream",
     "text": [
      "El sabor de esta galleta es  Salado\n"
     ]
    }
   ],
   "source": [
    "print(\"El sabor de esta galleta es \", una_galleta.sabor)"
   ]
  },
  {
   "cell_type": "markdown",
   "metadata": {},
   "source": [
    "> __También podemos definirlo directamente en la clase y darle por defecto un valor (compartido por todas las instancias)__"
   ]
  },
  {
   "cell_type": "code",
   "execution_count": 6,
   "metadata": {},
   "outputs": [
    {
     "data": {
      "text/plain": [
       "False"
      ]
     },
     "execution_count": 6,
     "metadata": {},
     "output_type": "execute_result"
    }
   ],
   "source": [
    "class Galleta:\n",
    "    cholocate = False\n",
    "\n",
    "galleta = Galleta()\n",
    "galleta.cholocate"
   ]
  },
  {
   "cell_type": "code",
   "execution_count": 7,
   "metadata": {},
   "outputs": [
    {
     "data": {
      "text/plain": [
       "True"
      ]
     },
     "execution_count": 7,
     "metadata": {},
     "output_type": "execute_result"
    }
   ],
   "source": [
    "galleta.cholocate = True\n",
    "galleta.cholocate"
   ]
  },
  {
   "cell_type": "markdown",
   "metadata": {},
   "source": [
    "A pesar de que esto funciona, muchas veces es muy engorroso estar agregando valor por valor. \n",
    "_Seria mejor si puediésemos establecerlos a la hora de hacer una instancia_. __Para ello utilizamos el metodo `init`__"
   ]
  },
  {
   "cell_type": "code",
   "execution_count": 8,
   "metadata": {},
   "outputs": [
    {
     "name": "stdout",
     "output_type": "stream",
     "text": [
      "Se acaba de crear una galleta\n"
     ]
    }
   ],
   "source": [
    "class Galleta:\n",
    "    chocolate = False\n",
    "    def __init__(self):\n",
    "        print(\"Se acaba de crear una galleta\")\n",
    "        \n",
    "galleta = Galleta()"
   ]
  },
  {
   "cell_type": "markdown",
   "metadata": {},
   "source": [
    "* `__init__` es una función interna de la clase y un método es la palabra que indica una función dentro una clase.\n",
    "* `__init__` es un método especial que se ejecuta a la hora de crear una clase.\n",
    "* A `__init__` se le permite enviarle argumentos durante la instanciación\n",
    "> Este método se comparte por todos los objetos de la misma clase.\n",
    "\n",
    "* La palabra `self` que tienen todos los métodos, especiales o no,  __hacen referencia al propio objeto__.\n",
    "* `self` sirve para diferenciar entre el __ámbito de clase__ y __ambito de un método__\n",
    "* Este es un _requisito implícito_ en todos los métodos, ya que por defecto al llamar a cualquier métdo se pasa automáticamente al propio objeto. "
   ]
  },
  {
   "cell_type": "code",
   "execution_count": 9,
   "metadata": {},
   "outputs": [
    {
     "name": "stdout",
     "output_type": "stream",
     "text": [
      "Se acaba de crear una galleta\n"
     ]
    },
    {
     "data": {
      "text/plain": [
       "False"
      ]
     },
     "execution_count": 9,
     "metadata": {},
     "output_type": "execute_result"
    }
   ],
   "source": [
    "# Supongamos que tenemos la misma definicion de la clase Galleta, y quiero crear un método propio.\n",
    "class Galleta:\n",
    "    chocolate = False\n",
    "    def __init__(self):\n",
    "        print(\"Se acaba de crear una galleta\")\n",
    "    \n",
    "    def chocolatear(self):\n",
    "        chocolate = True\n",
    "    \n",
    "galleta = Galleta()\n",
    "galleta.chocolatear()\n",
    "galleta.chocolate"
   ]
  },
  {
   "cell_type": "markdown",
   "metadata": {},
   "source": [
    "__Es aquí el *porqué del ser de `self`*. El atributo `chocolate`, dentro de la función `chocolatear`, pensamos que hace referencia al atributo `chocolate` debajo de `class Galleta:`. Pero no, en realidad la variable `chocolate`, dentro de la función `chocolatear` *hace referencia a una variable interna `chocolate`*.__\n",
    "\n",
    "Para evitar este tipo de _\"mal entenido\"_ debemos de hacer lo siguiente:"
   ]
  },
  {
   "cell_type": "code",
   "execution_count": 10,
   "metadata": {},
   "outputs": [
    {
     "name": "stdout",
     "output_type": "stream",
     "text": [
      "Se acaba de crear una galleta\n"
     ]
    },
    {
     "data": {
      "text/plain": [
       "True"
      ]
     },
     "execution_count": 10,
     "metadata": {},
     "output_type": "execute_result"
    }
   ],
   "source": [
    "class Galleta:\n",
    "    chocolate = False\n",
    "    def __init__(self):\n",
    "        print(\"Se acaba de crear una galleta\")\n",
    "    \n",
    "    def chocolatear(self):\n",
    "        self.chocolate = True   # Hacemos referencia a la variable global 'chocolate'\n",
    "    \n",
    "galleta = Galleta()\n",
    "galleta.chocolatear()\n",
    "galleta.chocolate"
   ]
  },
  {
   "cell_type": "code",
   "execution_count": 12,
   "metadata": {},
   "outputs": [
    {
     "name": "stdout",
     "output_type": "stream",
     "text": [
      "Se acaba de crear una galleta\n",
      "Soy una galleta sin Chocolate :-(\n",
      "Soy una galleta de Chocolate :-D\n"
     ]
    }
   ],
   "source": [
    "# Creamos otra función interna\n",
    "class Galleta:\n",
    "    chocolate = False\n",
    "    def __init__(self):\n",
    "        print(\"Se acaba de crear una galleta\")\n",
    "    \n",
    "    def chocolatear(self):\n",
    "        self.chocolate = True   # Hacemos referencia a la variable global 'chocolate'\n",
    "    \n",
    "    def tiene_chocolate(self):\n",
    "        if (self.chocolate):\n",
    "            print(\"Soy una galleta de Chocolate :-D\")\n",
    "        else:\n",
    "            print(\"Soy una galleta sin Chocolate :-(\")\n",
    "            \n",
    "#----------------------------------------            \n",
    "galleta = Galleta()\n",
    "galleta.tiene_chocolate()\n",
    "galleta.chocolatear()\n",
    "galleta.tiene_chocolate()"
   ]
  },
  {
   "cell_type": "markdown",
   "metadata": {},
   "source": [
    "Ahora, podemos pasarle estos valores directamente a tráves de los párametros del método `__init__`. A continuación se muestra.\n",
    "\n",
    "```python\n",
    "\n",
    "def __init__(self, sabor, color):  # Pasamos los parametros sabor y color\n",
    "        Atributo de clase ---> self.sabor = sabor <---- Atributo de función\n",
    "        Atributo de clase ---> self.color = color <---- Atributo de función\n",
    "```"
   ]
  },
  {
   "cell_type": "code",
   "execution_count": 19,
   "metadata": {},
   "outputs": [],
   "source": [
    "class Galleta:\n",
    "    chocolate = False\n",
    "    \n",
    "    def __init__(self, sabor, forma):  # Pasamos los parametros sabor y color\n",
    "        #  self.AtributoClase = Atributo \n",
    "        self.sabor = sabor\n",
    "        self.forma = forma\n",
    "        print(\"Se acaba de crear una galleta {} y {}\".format(sabor, forma))\n",
    "    \n",
    "    def chocolatear(self):\n",
    "        self.chocolate = True   # Hacemos referencia a la variable global 'chocolate'\n",
    "    \n",
    "    def tiene_chocolate(self):\n",
    "        if (self.chocolate):\n",
    "            print(\"Soy una galleta de Chocolate :-D\")\n",
    "        else:\n",
    "            print(\"Soy una galleta sin Chocolate :-(\")"
   ]
  },
  {
   "cell_type": "code",
   "execution_count": 20,
   "metadata": {},
   "outputs": [
    {
     "name": "stdout",
     "output_type": "stream",
     "text": [
      "Se acaba de crear una galleta Salada y Cuadrada\n"
     ]
    }
   ],
   "source": [
    "galleta = Galleta(\"salada\", \"cuadrada\")"
   ]
  },
  {
   "cell_type": "markdown",
   "metadata": {},
   "source": [
    "Pero que pasa si ahora queremos hacer una instancia de la forma: `galleta = Galleta()`. Veamos"
   ]
  },
  {
   "cell_type": "code",
   "execution_count": 21,
   "metadata": {},
   "outputs": [
    {
     "ename": "TypeError",
     "evalue": "__init__() missing 2 required positional arguments: 'sabor' and 'forma'",
     "output_type": "error",
     "traceback": [
      "\u001b[1;31m---------------------------------------------------------------------------\u001b[0m",
      "\u001b[1;31mTypeError\u001b[0m                                 Traceback (most recent call last)",
      "\u001b[1;32m<ipython-input-21-7bac9512c2e2>\u001b[0m in \u001b[0;36m<module>\u001b[1;34m\u001b[0m\n\u001b[1;32m----> 1\u001b[1;33m \u001b[0mgalleta\u001b[0m \u001b[1;33m=\u001b[0m \u001b[0mGalleta\u001b[0m\u001b[1;33m(\u001b[0m\u001b[1;33m)\u001b[0m\u001b[1;33m\u001b[0m\u001b[1;33m\u001b[0m\u001b[0m\n\u001b[0m",
      "\u001b[1;31mTypeError\u001b[0m: __init__() missing 2 required positional arguments: 'sabor' and 'forma'"
     ]
    }
   ],
   "source": [
    "galleta = Galleta()"
   ]
  },
  {
   "cell_type": "markdown",
   "metadata": {},
   "source": [
    "Bueno, para evitar este error, lo que hacemos es __definir valores por defecto__ a estos parametros. "
   ]
  },
  {
   "cell_type": "code",
   "execution_count": 22,
   "metadata": {},
   "outputs": [],
   "source": [
    "class Galleta:\n",
    "    chocolate = False\n",
    "    \n",
    "    def __init__(self, sabor = None, forma = None):  # Pasamos los parametros sabor y color\n",
    "        #  self.AtributoClase = Atributo \n",
    "        self.sabor = sabor\n",
    "        self.forma = forma\n",
    "        if sabor is not None and forma is not None:\n",
    "            print(\"Se acaba de crear una galleta {} y {}\".format(sabor, forma))\n",
    "        else:\n",
    "            print(\"Se acaba de crear una galleta\")\n",
    "    \n",
    "    def chocolatear(self):\n",
    "        self.chocolate = True   # Hacemos referencia a la variable global 'chocolate'\n",
    "    \n",
    "    def tiene_chocolate(self):\n",
    "        if (self.chocolate):\n",
    "            print(\"Soy una galleta de Chocolate :-D\")\n",
    "        else:\n",
    "            print(\"Soy una galleta sin Chocolate :-(\")"
   ]
  },
  {
   "cell_type": "code",
   "execution_count": 23,
   "metadata": {},
   "outputs": [
    {
     "name": "stdout",
     "output_type": "stream",
     "text": [
      "Se acaba de crear una galleta\n",
      "Se acaba de crear una galleta Salada y Cuadrada\n"
     ]
    }
   ],
   "source": [
    "galleta_a = Galleta()\n",
    "galleta_b = Galleta(\"Salada\", \"Cuadrada\")"
   ]
  },
  {
   "cell_type": "code",
   "execution_count": null,
   "metadata": {},
   "outputs": [],
   "source": []
  }
 ],
 "metadata": {
  "kernelspec": {
   "display_name": "Python 3",
   "language": "python",
   "name": "python3"
  },
  "language_info": {
   "codemirror_mode": {
    "name": "ipython",
    "version": 3
   },
   "file_extension": ".py",
   "mimetype": "text/x-python",
   "name": "python",
   "nbconvert_exporter": "python",
   "pygments_lexer": "ipython3",
   "version": "3.7.3"
  }
 },
 "nbformat": 4,
 "nbformat_minor": 1
}
