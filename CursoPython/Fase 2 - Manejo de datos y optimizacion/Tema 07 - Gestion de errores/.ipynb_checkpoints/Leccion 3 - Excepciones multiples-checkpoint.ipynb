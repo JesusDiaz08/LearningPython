{
 "cells": [
  {
   "cell_type": "markdown",
   "metadata": {},
   "source": [
    "# Excepciones\n",
    "\n",
    "## Multiples excepciones.\n",
    "\n",
    "> Pueden ocurrir múltiples excepciones cuando se desarrollan las aplicaciones y cada una de ellas nos puede dar información distinta. Para ver cuáles son, hacemos lo siguiente"
   ]
  },
  {
   "cell_type": "code",
   "execution_count": 2,
   "metadata": {},
   "outputs": [
    {
     "name": "stdout",
     "output_type": "stream",
     "text": [
      "Introduce un numero:\t23\n",
      "Error\n"
     ]
    }
   ],
   "source": [
    "try:\n",
    "    n = input(\"Introduce un numero:\\t\")\n",
    "    5/n\n",
    "except:\n",
    "    print(\"Error\") # Aqui no sabemos qué tipo de error ha ocurrido"
   ]
  },
  {
   "cell_type": "code",
   "execution_count": 6,
   "metadata": {},
   "outputs": [
    {
     "name": "stdout",
     "output_type": "stream",
     "text": [
      "Introduce un numero:\t54\n",
      "TypeError\n"
     ]
    }
   ],
   "source": [
    "# Para poder sacar el identificador del error, se hace lo siguiente\n",
    "try:\n",
    "    n = input(\"Introduce un numero:\\t\")\n",
    "    5/n\n",
    "except Exception as e:\n",
    "    print( type(e).__name__ ) # Aqui no sabemos qué tipo de error ha ocurrido"
   ]
  },
  {
   "cell_type": "code",
   "execution_count": 13,
   "metadata": {},
   "outputs": [
    {
     "name": "stdout",
     "output_type": "stream",
     "text": [
      "Introduce un numero:\t0\n",
      "No se puede dividir por 0.\n",
      "Prueba otro numero.\n"
     ]
    }
   ],
   "source": [
    "# Para poder sacar el identificador del error, se hace lo siguiente\n",
    "try:\n",
    "    n = float(input(\"Introduce un numero:\\t\"))\n",
    "    5/n\n",
    "except TypeError:\n",
    "    print(\"No se puede dividir el número por una cadena\")\n",
    "except ValueError:\n",
    "    print(\"Debes introducir una cadena que sea un número\")\n",
    "except ZeroDivisionError:\n",
    "    print(\"No se puede dividir por 0.\\nPrueba otro numero.\")\n",
    "except Exception as e:\n",
    "    print( type(e).__name__ ) # Aqui ya sabemos qué tipo de error ha ocurrido"
   ]
  }
 ],
 "metadata": {
  "kernelspec": {
   "display_name": "Python 3",
   "language": "python",
   "name": "python3"
  },
  "language_info": {
   "codemirror_mode": {
    "name": "ipython",
    "version": 3
   },
   "file_extension": ".py",
   "mimetype": "text/x-python",
   "name": "python",
   "nbconvert_exporter": "python",
   "pygments_lexer": "ipython3",
   "version": "3.7.3"
  }
 },
 "nbformat": 4,
 "nbformat_minor": 1
}
