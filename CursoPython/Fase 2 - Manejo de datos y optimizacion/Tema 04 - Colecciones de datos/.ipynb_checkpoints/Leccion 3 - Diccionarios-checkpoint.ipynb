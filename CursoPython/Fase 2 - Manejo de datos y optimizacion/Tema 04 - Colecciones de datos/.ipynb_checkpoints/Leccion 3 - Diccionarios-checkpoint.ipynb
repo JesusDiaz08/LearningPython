{
 "cells": [
  {
   "cell_type": "markdown",
   "metadata": {},
   "source": [
    "# DICCIONARIOS\n",
    "**Son una de las estructuras más utilizadas en Python.** Utilizan una estructura llamada *mapping*, donde cada elemento de la colección **está ubicado con una clave única**. ***NO PUEDE HABER DOS CLAVES IGUALES EN UN DICCIONARIO***\n",
    "- También es conocido como **arreglo asociativo**\n",
    "- Se compone de asociaciones **clave**:**valor**\n",
    "- Son **colecciones mutables**, es decir, pueden cambiar de valor."
   ]
  },
  {
   "cell_type": "markdown",
   "metadata": {},
   "source": [
    "#### Crear un diccionario"
   ]
  },
  {
   "cell_type": "code",
   "execution_count": 1,
   "metadata": {},
   "outputs": [
    {
     "data": {
      "text/plain": [
       "dict"
      ]
     },
     "execution_count": 1,
     "metadata": {},
     "output_type": "execute_result"
    }
   ],
   "source": [
    "vacio = {}\n",
    "type(vacio)"
   ]
  },
  {
   "cell_type": "markdown",
   "metadata": {},
   "source": [
    "Supononiendo que queremos crear un diccionario de traducciones:\n",
    "    "
   ]
  },
  {
   "cell_type": "code",
   "execution_count": 2,
   "metadata": {},
   "outputs": [
    {
     "data": {
      "text/plain": [
       "'rojo'"
      ]
     },
     "execution_count": 2,
     "metadata": {},
     "output_type": "execute_result"
    }
   ],
   "source": [
    "colores = {\"red\" : \"rojo\", \n",
    "           \"blue\": \"azul\", \n",
    "           \"yellow\": \"amarillo\"\n",
    "          }\n",
    "colores[\"red\"]"
   ]
  },
  {
   "cell_type": "code",
   "execution_count": 3,
   "metadata": {},
   "outputs": [
    {
     "data": {
      "text/plain": [
       "{'blue': 'azul', 'red': 'rojo', 'yellow': 'amarillo'}"
      ]
     },
     "execution_count": 3,
     "metadata": {},
     "output_type": "execute_result"
    }
   ],
   "source": [
    "colores"
   ]
  },
  {
   "cell_type": "markdown",
   "metadata": {},
   "source": [
    "#### Importante\n",
    "- Se debe de tener en cuenta que **los diccionarios son colecciones *desordenadas***."
   ]
  },
  {
   "cell_type": "code",
   "execution_count": 8,
   "metadata": {},
   "outputs": [
    {
     "data": {
      "text/plain": [
       "'amarillo'"
      ]
     },
     "execution_count": 8,
     "metadata": {},
     "output_type": "execute_result"
    }
   ],
   "source": [
    "\"\"\"Si quiero saber como se dice yellow en español entonces \n",
    "puedo utilizar la siguiente nomenclatura\"\"\"\n",
    "\n",
    "colores[\"yellow\"]"
   ]
  },
  {
   "cell_type": "markdown",
   "metadata": {},
   "source": [
    "La creación de diccionarios puede ser asociada con muchos tipos de datos, tal y como \n",
    "lo son las cadenas o los numeros"
   ]
  },
  {
   "cell_type": "code",
   "execution_count": 9,
   "metadata": {},
   "outputs": [
    {
     "data": {
      "text/plain": [
       "{1: 'Bob Esponja', 2: 'Calamardo', 3: 'Arenita', 4: 'Patricio'}"
      ]
     },
     "execution_count": 9,
     "metadata": {},
     "output_type": "execute_result"
    }
   ],
   "source": [
    "ranking = {1: \"Bob Esponja\",\n",
    "           2: \"Calamardo\",\n",
    "           3: \"Arenita\",\n",
    "           4: \"Patricio\"\n",
    "          }\n",
    "ranking"
   ]
  },
  {
   "cell_type": "markdown",
   "metadata": {},
   "source": [
    "Ahora, en vez de referirnos con \"la clave\" de asociada, pareciera que **utilizamos indices**.... PERO NO ES ASI"
   ]
  },
  {
   "cell_type": "code",
   "execution_count": 10,
   "metadata": {},
   "outputs": [
    {
     "data": {
      "text/plain": [
       "'Bob Esponja'"
      ]
     },
     "execution_count": 10,
     "metadata": {},
     "output_type": "execute_result"
    }
   ],
   "source": [
    "ranking[1]"
   ]
  },
  {
   "cell_type": "markdown",
   "metadata": {},
   "source": [
    "## MODIFICAR REGISTROS\n",
    "Dado que los diccionarios son colecciones mutables, entonces pueden cambiar su valor. Modificando asi los registros del diccionario."
   ]
  },
  {
   "cell_type": "code",
   "execution_count": 15,
   "metadata": {},
   "outputs": [
    {
     "data": {
      "text/plain": [
       "{1: 'Don Cangrejo', 2: 'Calamardo', 3: 'Arenita', 4: 'Patricio'}"
      ]
     },
     "execution_count": 15,
     "metadata": {},
     "output_type": "execute_result"
    }
   ],
   "source": [
    "\"\"\"Suponiendo que Don Cangrejo quedó en 1er lugar\n",
    "entonces podemos hacer el cambio de posicion\n",
    "\"\"\"\n",
    "ranking[1] = \"Don Cangrejo\"\n",
    "ranking"
   ]
  },
  {
   "cell_type": "markdown",
   "metadata": {},
   "source": [
    "### ELIMINAR REGISTROS\n",
    "Si nuestra intención es **eliminar algún elemento**, lo hacemos a través de su *clave*."
   ]
  },
  {
   "cell_type": "code",
   "execution_count": 16,
   "metadata": {},
   "outputs": [
    {
     "data": {
      "text/plain": [
       "{1: 'Don Cangrejo', 2: 'Calamardo', 3: 'Arenita'}"
      ]
     },
     "execution_count": 16,
     "metadata": {},
     "output_type": "execute_result"
    }
   ],
   "source": [
    "del(ranking[4])    # Eliminamos a patricio de la competencia.\n",
    "ranking"
   ]
  },
  {
   "cell_type": "markdown",
   "metadata": {},
   "source": [
    "### OPERACIONES SOBRE REGISTROS\n",
    "Se pueden hacer operaciones sobre los registros y sus valores. Utilizando los distintos operadores."
   ]
  },
  {
   "cell_type": "code",
   "execution_count": 42,
   "metadata": {},
   "outputs": [
    {
     "data": {
      "text/plain": [
       "{'Jesus': 22, 'Maria': 67, 'Ramon': 41, 'Roberto': 22}"
      ]
     },
     "execution_count": 42,
     "metadata": {},
     "output_type": "execute_result"
    }
   ],
   "source": [
    "personas = { \"Ramon\": 41,\n",
    "             \"Roberto\":22,\n",
    "             \"Jesus\": 22,\n",
    "             \"Maria\":67\n",
    "           }                     # Si una clave corresponde a más de un valor (entero), por defecto se toma el mas grande\n",
    "personas"
   ]
  },
  {
   "cell_type": "code",
   "execution_count": 33,
   "metadata": {},
   "outputs": [
    {
     "data": {
      "text/plain": [
       "{'Jesus': 22, 'Maria': 67, 'Ramon': 43, 'Roberto': 22}"
      ]
     },
     "execution_count": 33,
     "metadata": {},
     "output_type": "execute_result"
    }
   ],
   "source": [
    "personas[\"Ramon\"] += 2      # Le sumo 2 años a la edad de Ramón\n",
    "personas"
   ]
  },
  {
   "cell_type": "code",
   "execution_count": 43,
   "metadata": {},
   "outputs": [
    {
     "data": {
      "text/plain": [
       "{'Jesus': 22, 'Maria': 62, 'Ramon': 41, 'Roberto': 22}"
      ]
     },
     "execution_count": 43,
     "metadata": {},
     "output_type": "execute_result"
    }
   ],
   "source": [
    "personas[\"Maria\"] -= 5     # Le quito 50 años a Maria\n",
    "personas"
   ]
  },
  {
   "cell_type": "markdown",
   "metadata": {},
   "source": [
    "### FLUJO DE PROGRAMA\n",
    "Se pueden utilizar diversos flujos de control y selección en un diccionario"
   ]
  },
  {
   "cell_type": "code",
   "execution_count": 44,
   "metadata": {},
   "outputs": [
    {
     "name": "stdout",
     "output_type": "stream",
     "text": [
      "Ramon\n",
      "Roberto\n",
      "Jesus\n",
      "Maria\n"
     ]
    }
   ],
   "source": [
    "for edad in personas:        # Aqui se puede ver que no accedemos a los valores, aunque eso pensaramos\n",
    "    print(edad)              # Sino lo que conseguimos son las claves"
   ]
  },
  {
   "cell_type": "code",
   "execution_count": 38,
   "metadata": {},
   "outputs": [
    {
     "name": "stdout",
     "output_type": "stream",
     "text": [
      "Ramon\n",
      "Roberto\n",
      "Jesus\n",
      "Maria\n"
     ]
    }
   ],
   "source": [
    "# Entonces tiene más sentido si hacemos lo siguientes\n",
    "for clave in personas:\n",
    "    print(clave)"
   ]
  },
  {
   "cell_type": "code",
   "execution_count": 45,
   "metadata": {},
   "outputs": [
    {
     "name": "stdout",
     "output_type": "stream",
     "text": [
      "41\n",
      "22\n",
      "22\n",
      "62\n",
      "De esta manera puede mostrarse que son valores desordenados\n"
     ]
    }
   ],
   "source": [
    "# Obteniendo las edades de cada una de estas personas, usamos lo siguiente\n",
    "for clave in personas:\n",
    "    print(personas[clave])\n",
    "    \n",
    "print(\"De esta manera puede mostrarse que son valores desordenados\")"
   ]
  },
  {
   "cell_type": "code",
   "execution_count": 48,
   "metadata": {},
   "outputs": [
    {
     "name": "stdout",
     "output_type": "stream",
     "text": [
      "Ramon 41\n",
      "Roberto 22\n",
      "Jesus 22\n",
      "Maria 62\n"
     ]
    }
   ],
   "source": [
    "# Podemos mostrar la clave y valor de un diccionario de la siguiente manera:\n",
    "for clave in personas:\n",
    "    print(clave, personas[clave])"
   ]
  },
  {
   "cell_type": "markdown",
   "metadata": {},
   "source": [
    "### MAS COQUETO\n",
    "Aunque la **opción de arriba está bien**, ***NO ES LA MEJOR FORMA DE HACERLO***.\n",
    "\n",
    "**Para hacer esto, utilizamos el método *items()* **\n",
    "- items() : Podemos **conseguir una clave y un valor** para cada registro del diccionario.\n",
    "- Se comporta parecido al enumerate"
   ]
  },
  {
   "cell_type": "code",
   "execution_count": 50,
   "metadata": {},
   "outputs": [
    {
     "name": "stdout",
     "output_type": "stream",
     "text": [
      "Ramon 41\n",
      "Roberto 22\n",
      "Jesus 22\n",
      "Maria 62\n",
      "Es parecido al enumerate de las listas, pero en lugar\n",
      "de obtener los indices, obtienes la clave\n"
     ]
    }
   ],
   "source": [
    "for clave,valor in personas.items():\n",
    "    print(clave, valor) \n",
    "    \n",
    "print(\"\"\"Es parecido al enumerate de las listas, pero en lugar\n",
    "de obtener los indices, obtienes la clave\"\"\")"
   ]
  },
  {
   "cell_type": "markdown",
   "metadata": {},
   "source": [
    "## INTERESANTE\n",
    "Podemos combinar colecciones de datos, vistas hasta ahora, para crear **colecciones de datos avanzadas**."
   ]
  },
  {
   "cell_type": "code",
   "execution_count": 60,
   "metadata": {},
   "outputs": [
    {
     "data": {
      "text/plain": [
       "[{'Clase': 'Mago', 'Nombre': 'Gandalf', 'Raza': 'Humano'}]"
      ]
     },
     "execution_count": 60,
     "metadata": {},
     "output_type": "execute_result"
    }
   ],
   "source": [
    "# LISTA DE PERSONAJES\n",
    "personajes = []\n",
    "# CREAMOS EL PRIMER PERSONAJE\n",
    "p = {\"Nombre\" :  \"Gandalf\",\n",
    "          \"Clase\" : \"Mago\",\n",
    "          \"Raza\" :  \"Humano\"\n",
    "         }\n",
    "personajes.append(p)\n",
    "personajes"
   ]
  },
  {
   "cell_type": "code",
   "execution_count": 61,
   "metadata": {},
   "outputs": [
    {
     "data": {
      "text/plain": [
       "[{'Clase': 'Mago', 'Nombre': 'Gandalf', 'Raza': 'Humano'},\n",
       " {'Clase': 'Arquero', 'Nombre': 'Legolas', 'Raza': 'Elfo'}]"
      ]
     },
     "execution_count": 61,
     "metadata": {},
     "output_type": "execute_result"
    }
   ],
   "source": [
    "# CREAMOS MAS PERSONAJES\n",
    "p = {\"Nombre\" :  \"Legolas\",\n",
    "          \"Clase\" : \"Arquero\",\n",
    "          \"Raza\" :  \"Elfo\"\n",
    "         }\n",
    "personajes.append(p)\n",
    "personajes"
   ]
  },
  {
   "cell_type": "code",
   "execution_count": 62,
   "metadata": {},
   "outputs": [
    {
     "data": {
      "text/plain": [
       "[{'Clase': 'Mago', 'Nombre': 'Gandalf', 'Raza': 'Humano'},\n",
       " {'Clase': 'Arquero', 'Nombre': 'Legolas', 'Raza': 'Elfo'},\n",
       " {'Clase': 'Guerrero', 'Nombre': 'Gimli', 'Raza': 'Enano'}]"
      ]
     },
     "execution_count": 62,
     "metadata": {},
     "output_type": "execute_result"
    }
   ],
   "source": [
    "# CREAMOS MAS PERSONAJES\n",
    "p = {\"Nombre\" :  \"Gimli\",\n",
    "     \"Clase\" : \"Guerrero\",\n",
    "     \"Raza\" :  \"Enano\"\n",
    "    }\n",
    "personajes.append(p)\n",
    "personajes"
   ]
  },
  {
   "cell_type": "code",
   "execution_count": 78,
   "metadata": {},
   "outputs": [
    {
     "name": "stdout",
     "output_type": "stream",
     "text": [
      "Nombre Gandalf\n",
      "Clase Mago\n",
      "Raza Humano\n",
      "\n",
      "\n",
      "Nombre Legolas\n",
      "Clase Arquero\n",
      "Raza Elfo\n",
      "\n",
      "\n",
      "Nombre Gimli\n",
      "Clase Guerrero\n",
      "Raza Enano\n",
      "\n",
      "\n"
     ]
    }
   ],
   "source": [
    "# RECORRIENDO LOS PERSONAJES\n",
    "for diccionario in (personajes):\n",
    "    for clave,valor in diccionario.items():\n",
    "        print(clave,valor)\n",
    "    print(\"\\n\")\n",
    "    "
   ]
  }
 ],
 "metadata": {
  "kernelspec": {
   "display_name": "Python 3",
   "language": "python",
   "name": "python3"
  },
  "language_info": {
   "codemirror_mode": {
    "name": "ipython",
    "version": 3
   },
   "file_extension": ".py",
   "mimetype": "text/x-python",
   "name": "python",
   "nbconvert_exporter": "python",
   "pygments_lexer": "ipython3",
   "version": "3.6.4"
  }
 },
 "nbformat": 4,
 "nbformat_minor": 1
}
