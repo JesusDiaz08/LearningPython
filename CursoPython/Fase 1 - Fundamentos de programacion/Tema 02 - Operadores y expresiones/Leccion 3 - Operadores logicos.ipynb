{
 "cells": [
  {
   "cell_type": "markdown",
   "metadata": {},
   "source": [
    "## Operadores Lógicos\n",
    "Los operadores lógicos son aquellos usados en las expresiones booleanas, como lo son\n",
    "- Not \n",
    "- And\n",
    "- Or"
   ]
  },
  {
   "cell_type": "code",
   "execution_count": 1,
   "metadata": {},
   "outputs": [
    {
     "data": {
      "text/plain": [
       "True"
      ]
     },
     "execution_count": 1,
     "metadata": {},
     "output_type": "execute_result"
    }
   ],
   "source": [
    "# Negación\n",
    "not(False) == True"
   ]
  },
  {
   "cell_type": "code",
   "execution_count": 2,
   "metadata": {},
   "outputs": [
    {
     "data": {
      "text/plain": [
       "False"
      ]
     },
     "execution_count": 2,
     "metadata": {},
     "output_type": "execute_result"
    }
   ],
   "source": [
    "not True"
   ]
  },
  {
   "cell_type": "markdown",
   "metadata": {},
   "source": [
    "Estos operadores se presentan en dos formas: **Conjunción** y **Disyunción**\n",
    "# Conjunción\n",
    "- Viene de conjunto\n",
    "- Sinónimo de unido, cercano o contiguo\n",
    "- ***Agrupa uniendo.***\n",
    "\n",
    "# Disyunción\n",
    "- Viene de disyunto\n",
    "- Sinónimo de separado, apartado o distante\n",
    "- ***Agrupa separando***"
   ]
  },
  {
   "cell_type": "code",
   "execution_count": 3,
   "metadata": {},
   "outputs": [
    {
     "data": {
      "text/plain": [
       "True"
      ]
     },
     "execution_count": 3,
     "metadata": {},
     "output_type": "execute_result"
    }
   ],
   "source": [
    "#El operador que une es el and\n",
    "True and True"
   ]
  },
  {
   "cell_type": "code",
   "execution_count": 4,
   "metadata": {},
   "outputs": [
    {
     "data": {
      "text/plain": [
       "False"
      ]
     },
     "execution_count": 4,
     "metadata": {},
     "output_type": "execute_result"
    }
   ],
   "source": [
    "True and False"
   ]
  },
  {
   "cell_type": "code",
   "execution_count": 5,
   "metadata": {},
   "outputs": [
    {
     "data": {
      "text/plain": [
       "False"
      ]
     },
     "execution_count": 5,
     "metadata": {},
     "output_type": "execute_result"
    }
   ],
   "source": [
    "False and False"
   ]
  },
  {
   "cell_type": "markdown",
   "metadata": {},
   "source": [
    "Si se crea una **Tabla de verdad** de las expresiones lógicas, se tiene lo siguiente\n",
    "\n",
    "|A    | B    |  A and B |   A or B|\n",
    "|-----|------|----------|---------|\n",
    "|True | True |     True |     True|\n",
    "|True | False|    False |     True|\n",
    "|False| True |     False|     True|\n",
    "|False| False|     False|    False|\n",
    "\n",
    "En **and** ambos valores deben ser **True** para que el resultado sea **True**.\n",
    "\n",
    "En **or**  basta que uno de los dos valores sea **True** para que el resultado sea **True**\n",
    "\n",
    "- Disyunción : **or**\n",
    "- Conjunción : **and**"
   ]
  },
  {
   "cell_type": "code",
   "execution_count": 6,
   "metadata": {},
   "outputs": [
    {
     "data": {
      "text/plain": [
       "True"
      ]
     },
     "execution_count": 6,
     "metadata": {},
     "output_type": "execute_result"
    }
   ],
   "source": [
    "a = 13\n",
    "a > 10 and a < 20"
   ]
  },
  {
   "cell_type": "code",
   "execution_count": 7,
   "metadata": {},
   "outputs": [
    {
     "data": {
      "text/plain": [
       "False"
      ]
     },
     "execution_count": 7,
     "metadata": {},
     "output_type": "execute_result"
    }
   ],
   "source": [
    "a = 7\n",
    "a > 10 and a < 20"
   ]
  },
  {
   "cell_type": "code",
   "execution_count": 8,
   "metadata": {},
   "outputs": [
    {
     "data": {
      "text/plain": [
       "True"
      ]
     },
     "execution_count": 8,
     "metadata": {},
     "output_type": "execute_result"
    }
   ],
   "source": [
    "c = \"Jesus\"\n",
    "len(c) <= 5 and c[-3] == 's'"
   ]
  }
 ],
 "metadata": {
  "kernelspec": {
   "display_name": "Python 3",
   "language": "python",
   "name": "python3"
  },
  "language_info": {
   "codemirror_mode": {
    "name": "ipython",
    "version": 3
   },
   "file_extension": ".py",
   "mimetype": "text/x-python",
   "name": "python",
   "nbconvert_exporter": "python",
   "pygments_lexer": "ipython3",
   "version": "3.6.4"
  }
 },
 "nbformat": 4,
 "nbformat_minor": 1
}
