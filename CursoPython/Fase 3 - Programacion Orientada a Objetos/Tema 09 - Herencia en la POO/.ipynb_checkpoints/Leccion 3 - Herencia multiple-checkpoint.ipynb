{
 "cells": [
  {
   "cell_type": "markdown",
   "metadata": {
    "collapsed": true
   },
   "source": [
    "## Herencia múltiple.\n",
    "- __Hace la posibilidad de que _una subclase herede de varias superclases_, heredando más atributos o métodos.__\n",
    "- A veces resulta un problema, ya que puede ocurrir que algunas superclases tengas los mismos atributos o métodos que otros. Y cuando ocurre esto __da prioridad a las superclases más a la izquierda de la declaración__."
   ]
  },
  {
   "cell_type": "code",
   "execution_count": 1,
   "metadata": {},
   "outputs": [
    {
     "name": "stdout",
     "output_type": "stream",
     "text": [
      "Soy clase A\n"
     ]
    }
   ],
   "source": [
    "class A:\n",
    "    def __init__(self):\n",
    "        print(\"Soy clase A\")\n",
    "        \n",
    "    def a(self):\n",
    "        print(\"Este metodo lo heredo de A\")\n",
    "        \n",
    "class B:\n",
    "    def __init_(self):\n",
    "        print(\"Soy de clase B\")\n",
    "    \n",
    "    def b(self):\n",
    "        print(\"Este metodo lo heredo de B\")\n",
    "        \n",
    "class C(A,B):\n",
    "    def c(self):\n",
    "        print(\"Este metodo lo heredo de C\")\n",
    "\n",
    "c = C()"
   ]
  },
  {
   "cell_type": "markdown",
   "metadata": {},
   "source": [
    "Podemos ver que, __a pesar de que C hereda tanto de A y B__, le da _mayor importancia_ a __la clase A__, ya que _está más a la izquierda_.\n",
    "```python\n",
    "class C(A,B):\n",
    "    pass\n",
    "```"
   ]
  },
  {
   "cell_type": "code",
   "execution_count": 2,
   "metadata": {},
   "outputs": [
    {
     "name": "stdout",
     "output_type": "stream",
     "text": [
      "Este metodo lo heredo de A\n"
     ]
    }
   ],
   "source": [
    "c.a()"
   ]
  },
  {
   "cell_type": "code",
   "execution_count": 3,
   "metadata": {},
   "outputs": [
    {
     "name": "stdout",
     "output_type": "stream",
     "text": [
      "Este metodo lo heredo de B\n"
     ]
    }
   ],
   "source": [
    "c.b()"
   ]
  },
  {
   "cell_type": "code",
   "execution_count": 4,
   "metadata": {},
   "outputs": [
    {
     "name": "stdout",
     "output_type": "stream",
     "text": [
      "Este metodo lo heredo de C\n"
     ]
    }
   ],
   "source": [
    "c.c()"
   ]
  }
 ],
 "metadata": {
  "kernelspec": {
   "display_name": "Python 3",
   "language": "python",
   "name": "python3"
  },
  "language_info": {
   "codemirror_mode": {
    "name": "ipython",
    "version": 3
   },
   "file_extension": ".py",
   "mimetype": "text/x-python",
   "name": "python",
   "nbconvert_exporter": "python",
   "pygments_lexer": "ipython3",
   "version": "3.7.3"
  }
 },
 "nbformat": 4,
 "nbformat_minor": 1
}
