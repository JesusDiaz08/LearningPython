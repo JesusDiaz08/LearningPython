{
 "cells": [
  {
   "cell_type": "markdown",
   "metadata": {},
   "source": [
    "# Tema 07: Gestión de errores (Enunciados)\n",
    "*Nota: Estos ejercicios son optativos para hacer al final de la unidad y están pensados para apoyar tu aprendizaje*."
   ]
  },
  {
   "cell_type": "markdown",
   "metadata": {},
   "source": [
    "**1) Localiza el error en el siguiente bloque de código. Crea una excepción para evitar que el programa se bloquee y además explica en un mensaje al usuario la causa y/o solución:**"
   ]
  },
  {
   "cell_type": "code",
   "execution_count": 12,
   "metadata": {},
   "outputs": [
    {
     "name": "stdout",
     "output_type": "stream",
     "text": [
      "No se puede dividir por 0\n",
      "Introduce un número distinto.\n"
     ]
    }
   ],
   "source": [
    "# Completa el ejercicio aquí\n",
    "try:\n",
    "    resultado = 10/0\n",
    "except ZeroDivisionError:\n",
    "    print(\"No se puede dividir por 0\")\n",
    "    print(\"Introduce un número distinto.\")"
   ]
  },
  {
   "cell_type": "markdown",
   "metadata": {},
   "source": [
    "**2) Localiza el error en el siguiente bloque de código.  Crea una excepción para evitar que el programa se bloquee y además explica en un mensaje al usuario la causa y/o solución:**"
   ]
  },
  {
   "cell_type": "code",
   "execution_count": 13,
   "metadata": {},
   "outputs": [
    {
     "name": "stdout",
     "output_type": "stream",
     "text": [
      "El indice de la lista esta fuera del rango.\n",
      "Ingrese un indice valido.\n"
     ]
    }
   ],
   "source": [
    "# Completa el ejercicio aquí\n",
    "try:\n",
    "    lista = [1, 2, 3, 4, 5]\n",
    "    lista[10]\n",
    "except IndexError:\n",
    "    print(\"El indice de la lista esta fuera del rango.\\nIngrese un indice valido.\")"
   ]
  },
  {
   "cell_type": "markdown",
   "metadata": {},
   "source": [
    "**3) Localiza el error en el siguiente bloque de código.  Crea una excepción para evitar que el programa se bloquee y además explica en un mensaje al usuario la causa y/o solución:**"
   ]
  },
  {
   "cell_type": "code",
   "execution_count": 17,
   "metadata": {},
   "outputs": [
    {
     "name": "stdout",
     "output_type": "stream",
     "text": [
      "\n",
      "    La clave escrita no existe o no tiene asociado un valor.\n",
      "    Utilice una llave válida.\n",
      "    \n"
     ]
    }
   ],
   "source": [
    "# Completa el ejercicio aquí\n",
    "try:\n",
    "    colores = { 'rojo':'red', 'verde':'green', 'negro':'black' } \n",
    "    colores['blanco']\n",
    "except KeyError:\n",
    "    print(\"\"\"\n",
    "    La clave del diccionario escrita no existe o no tiene asociado un valor.\n",
    "    Utilice una llave válida.\n",
    "    \"\"\")"
   ]
  },
  {
   "cell_type": "markdown",
   "metadata": {},
   "source": [
    "**4) Localiza el error en el siguiente bloque de código.  Crea una excepción para evitar que el programa se bloquee y además explica en un mensaje al usuario la causa y/o solución:**"
   ]
  },
  {
   "cell_type": "code",
   "execution_count": 19,
   "metadata": {},
   "outputs": [
    {
     "name": "stdout",
     "output_type": "stream",
     "text": [
      "Error! Solo es posible sumar datos del mismo tipo.\n"
     ]
    }
   ],
   "source": [
    "# Completa el ejercicio aquí\n",
    "try:\n",
    "    resultado = 15 + \"20\"\n",
    "except TypeError:\n",
    "    print(\"Error! Solo es posible sumar datos del mismo tipo.\")\n",
    "except ValueError:\n",
    "    print(\"Por favor, digite un numero\")"
   ]
  },
  {
   "cell_type": "markdown",
   "metadata": {},
   "source": [
    "**5) Realiza una función llamada agregar_una_vez() que reciba una lista y un elemento. La función debe añadir el elemento al final de la lista con la condición de no repetir ningún elemento. Además si este elemento ya se encuentra en la lista se debe invocar un error de tipo ValueError que debes capturar y mostrar este mensaje en su lugar:**\n",
    "\n",
    "```\n",
    "  Error: Imposible añadir elementos duplicados => [elemento].\n",
    "```\n",
    "**Prueba de agregar los elementos 10, -2, \"Hola\" a la lista de elementos con la función una vez la has creado y luego muestra su contenido.**\n",
    "\n",
    "*Nota: Puedes utilizar la sintaxis: elemento in lista*"
   ]
  },
  {
   "cell_type": "code",
   "execution_count": 27,
   "metadata": {},
   "outputs": [
    {
     "name": "stdout",
     "output_type": "stream",
     "text": [
      "[1, 5, -2, 21]\n"
     ]
    }
   ],
   "source": [
    "elementos = [1, 5, -2]\n",
    "\n",
    "# Completa el ejercicio aquí\n",
    "def agregar_una_vez(lista, elemento):\n",
    "    try:\n",
    "        if elemento in lista:\n",
    "            raise ValueError(\"Este elemento ya está en la lista\")\n",
    "        else:\n",
    "            lista.append(elemento)\n",
    "    except ValueError:\n",
    "        print(\"Error: Imposible añadir elementos duplicados => [{}].\".format(elemento))\n",
    "    \n",
    "agregar_una_vez(elementos, 21)\n",
    "print(elementos) "
   ]
  }
 ],
 "metadata": {
  "anaconda-cloud": {},
  "kernelspec": {
   "display_name": "Python 3",
   "language": "python",
   "name": "python3"
  },
  "language_info": {
   "codemirror_mode": {
    "name": "ipython",
    "version": 3
   },
   "file_extension": ".py",
   "mimetype": "text/x-python",
   "name": "python",
   "nbconvert_exporter": "python",
   "pygments_lexer": "ipython3",
   "version": "3.7.3"
  }
 },
 "nbformat": 4,
 "nbformat_minor": 1
}
