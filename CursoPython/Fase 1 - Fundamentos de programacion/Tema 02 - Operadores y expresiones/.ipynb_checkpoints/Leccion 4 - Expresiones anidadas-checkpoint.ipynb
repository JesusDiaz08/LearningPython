{
 "cells": [
  {
   "cell_type": "markdown",
   "metadata": {},
   "source": [
    "# Expresiones Lógicas\n",
    "Nos ayudan a darnos una idea de como se están realizando las operaciones y evaluaciones de una expresión.\n",
    "Hay **reglas de precedencia** en estas expresiones, las cuáles se listan a continuación:\n",
    "\n",
    "**1.- Resolver las expresiones que están entre ( paréntesis )**.\n",
    "\n",
    "**2.- Aritméticas**\n",
    "    - 2.1 Exponentes y Raíces.\n",
    "    - 2.2 Multiplicación y División.\n",
    "    - 2.3 Suma y Resta.\n",
    "**3.- Operadores relacionales.**\n",
    "    - Mayor que : >=\n",
    "    - Menor que : <=\n",
    "    - Menor a : <\n",
    "    - Mayor a : >\n",
    "    - Igual que: ==\n",
    "    - Distinto a: !=\n",
    "**4.- Operadores lógicos.**\n",
    "    - And : and\n",
    "    - Or  : or\n",
    "    - Not : not"
   ]
  },
  {
   "cell_type": "code",
   "execution_count": null,
   "metadata": {},
   "outputs": [],
   "source": []
  }
 ],
 "metadata": {
  "kernelspec": {
   "display_name": "Python 3",
   "language": "python",
   "name": "python3"
  },
  "language_info": {
   "codemirror_mode": {
    "name": "ipython",
    "version": 3
   },
   "file_extension": ".py",
   "mimetype": "text/x-python",
   "name": "python",
   "nbconvert_exporter": "python",
   "pygments_lexer": "ipython3",
   "version": "3.6.4"
  }
 },
 "nbformat": 4,
 "nbformat_minor": 1
}
