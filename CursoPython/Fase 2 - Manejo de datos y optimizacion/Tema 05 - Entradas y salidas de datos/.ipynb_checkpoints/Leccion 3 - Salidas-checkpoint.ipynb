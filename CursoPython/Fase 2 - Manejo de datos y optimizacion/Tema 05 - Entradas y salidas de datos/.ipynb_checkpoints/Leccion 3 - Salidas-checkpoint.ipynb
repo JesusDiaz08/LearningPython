{
 "cells": [
  {
   "cell_type": "markdown",
   "metadata": {},
   "source": [
    "## Salidas"
   ]
  },
  {
   "cell_type": "code",
   "execution_count": 7,
   "metadata": {},
   "outputs": [
    {
     "name": "stdout",
     "output_type": "stream",
     "text": [
      "Your text is: Jesus and a number:  20\n"
     ]
    }
   ],
   "source": [
    "v = \"Jesus\"\n",
    "n = 20\n",
    "print(\"Your text is:\", v, \"and a number: \", n)"
   ]
  },
  {
   "cell_type": "markdown",
   "metadata": {},
   "source": [
    "A pesar de que esta forma es práctica no es la mejor, ya que **a veces resulta ser sumamente tedioso**. Ya que requiere muchas comprobaciones."
   ]
  },
  {
   "cell_type": "markdown",
   "metadata": {},
   "source": [
    "# FORMATEO DE ESCRITURA DE LAS CADENAS DE CARACTERES.\n",
    "- Crea todo el contenido, **sustituyendo los lugares donde mostraremos variables** una variable con una referencia.\n",
    "- Las **llaves { } ** es el indicador en donde el **format** va a recibir los valores parametros, le decimos lo que va"
   ]
  },
  {
   "cell_type": "code",
   "execution_count": 8,
   "metadata": {},
   "outputs": [
    {
     "data": {
      "text/plain": [
       "'Your text is: Jesus and a number: 20'"
      ]
     },
     "execution_count": 8,
     "metadata": {},
     "output_type": "execute_result"
    }
   ],
   "source": [
    "c = \"Your text is: {} and a number: {}\".format(v,n)\n",
    "c"
   ]
  },
  {
   "cell_type": "code",
   "execution_count": 10,
   "metadata": {},
   "outputs": [
    {
     "name": "stdout",
     "output_type": "stream",
     "text": [
      "Your text is: Jesus and a number: 20\n"
     ]
    }
   ],
   "source": [
    "print(c)"
   ]
  },
  {
   "cell_type": "markdown",
   "metadata": {},
   "source": [
    "- También **podemos pasar un indice** referenciando al valor que se quiere mostrar. En este caso *v = 0* y *n = 1*"
   ]
  },
  {
   "cell_type": "code",
   "execution_count": 11,
   "metadata": {},
   "outputs": [
    {
     "name": "stdout",
     "output_type": "stream",
     "text": [
      "Your text is: Jesus and a number: 20\n"
     ]
    }
   ],
   "source": [
    "c = \"Your text is: {0} and a number: {1}\".format(v,n)\n",
    "print(c)"
   ]
  },
  {
   "cell_type": "code",
   "execution_count": 12,
   "metadata": {},
   "outputs": [
    {
     "name": "stdout",
     "output_type": "stream",
     "text": [
      "Your text is: 20 and a number: Jesus\n"
     ]
    }
   ],
   "source": [
    "c = \"Your text is: {1} and a number: {0}\".format(v,n)\n",
    "print(c)"
   ]
  },
  {
   "cell_type": "markdown",
   "metadata": {},
   "source": [
    "Asímismo, **podemos referenciar cada variable con un código**, esto se hace directamente en la función **format()**, de la siguiente manera."
   ]
  },
  {
   "cell_type": "code",
   "execution_count": 13,
   "metadata": {},
   "outputs": [
    {
     "name": "stdout",
     "output_type": "stream",
     "text": [
      "Your text is: Jesus and a number: 20\n"
     ]
    }
   ],
   "source": [
    "c = \"Your text is: {texto} and a number: {numero}\".format(texto = v, numero = n)\n",
    "print(c)"
   ]
  },
  {
   "cell_type": "markdown",
   "metadata": {},
   "source": [
    "De esta manera estamos referenciando un código a partir de una clave.\n",
    "\n",
    "Una vez hecho esto, podemos utilizarlo varias veces"
   ]
  },
  {
   "cell_type": "code",
   "execution_count": 17,
   "metadata": {},
   "outputs": [
    {
     "name": "stdout",
     "output_type": "stream",
     "text": [
      "Jesus,20,Jesus,20\n"
     ]
    }
   ],
   "source": [
    "print(\"{texto},{numero},{texto},{numero}\".format(texto = v, numero = n))"
   ]
  },
  {
   "cell_type": "markdown",
   "metadata": {},
   "source": [
    "### ESTO ES SÓLO UN APERITIVO DE *FORMAT*"
   ]
  },
  {
   "cell_type": "markdown",
   "metadata": {},
   "source": [
    "### ALINEAR UN TEXTO\n",
    "- Alineada a la **derecha**:  **{:>30}.format(\"PALABRA\")** -> Lo que hace esto es que alinea \"PALABRA\" con 30 caracteres con espacios.\n",
    "- Alineada a la **izquierda:** **\"{:30}\".format(\"PALABRA\")**\n",
    "- Alineado al **centro**: **{:^30}.format(\"PALABRA\")** "
   ]
  },
  {
   "cell_type": "code",
   "execution_count": 18,
   "metadata": {},
   "outputs": [
    {
     "name": "stdout",
     "output_type": "stream",
     "text": [
      "                        Better\n"
     ]
    }
   ],
   "source": [
    "print(\"{:>30}\".format(\"Better\"))      # Alineamiento a la derecha de 30 caracteres"
   ]
  },
  {
   "cell_type": "code",
   "execution_count": 19,
   "metadata": {},
   "outputs": [
    {
     "name": "stdout",
     "output_type": "stream",
     "text": [
      "Better                        \n"
     ]
    }
   ],
   "source": [
    "print(\"{:30}\".format(\"Better\"))      # Alineamiento a la izquierda de 30 caracteres (se crean espacios en blanco)"
   ]
  },
  {
   "cell_type": "code",
   "execution_count": 20,
   "metadata": {},
   "outputs": [
    {
     "name": "stdout",
     "output_type": "stream",
     "text": [
      "            Better            \n"
     ]
    }
   ],
   "source": [
    "print(\"{:^30}\".format(\"Better\"))      # Alineamiento a la derecha de 30 caracteres"
   ]
  },
  {
   "cell_type": "markdown",
   "metadata": {},
   "source": [
    "### TRUNCAMIENTO\n",
    "- Se utiliza cuando **solamente se quieren mostrar algunos caracteres** de una cadena.\n",
    "- **{:.3}** : El 3 especifica el numero de caracteres a truncar"
   ]
  },
  {
   "cell_type": "code",
   "execution_count": 21,
   "metadata": {},
   "outputs": [
    {
     "name": "stdout",
     "output_type": "stream",
     "text": [
      "Bet\n"
     ]
    }
   ],
   "source": [
    "print(\"{:.3}\".format(\"Better\"))      # Truncamiento a 3 caracteres"
   ]
  },
  {
   "cell_type": "code",
   "execution_count": 22,
   "metadata": {},
   "outputs": [
    {
     "name": "stdout",
     "output_type": "stream",
     "text": [
      "Bette\n"
     ]
    }
   ],
   "source": [
    "print(\"{:.5}\".format(\"Better\"))      # Truncamiento a 3 caracteres"
   ]
  },
  {
   "cell_type": "markdown",
   "metadata": {},
   "source": [
    "**Cada uno de estas dos funciones pueden ser utilizadas especificando el codigo.**"
   ]
  },
  {
   "cell_type": "code",
   "execution_count": 26,
   "metadata": {},
   "outputs": [
    {
     "name": "stdout",
     "output_type": "stream",
     "text": [
      "Laloc\n",
      "             9391             \n"
     ]
    }
   ],
   "source": [
    "v = \"Lalocomotora\"\n",
    "n = 9391\n",
    "print(\"{texto:.5}\".format(texto = v, numero = n))      # Truncamiento a 3 caracteres\n",
    "print(\"{numero:^30}\".format(texto = v, numero = n))    # Alineamiento a la derecha de 30 caracteres"
   ]
  },
  {
   "cell_type": "markdown",
   "metadata": {},
   "source": [
    "## TRUNCAMIENTO + ALINEAMIENTO\n",
    "Se utilizan ambos:\n",
    "- **Centrar a 30 caracteres con truncamiento de 5 caracteres**: {texto:^30.5}"
   ]
  },
  {
   "cell_type": "code",
   "execution_count": 27,
   "metadata": {},
   "outputs": [
    {
     "name": "stdout",
     "output_type": "stream",
     "text": [
      "            Laloc             \n"
     ]
    }
   ],
   "source": [
    "print(\"{texto:^30.5}\".format(texto = v, numero = n))    # Alineamiento a la derecha de 30 caracteres"
   ]
  },
  {
   "cell_type": "markdown",
   "metadata": {},
   "source": [
    "## FORMATEO DE NÚMEROS"
   ]
  }
 ],
 "metadata": {
  "kernelspec": {
   "display_name": "Python 3",
   "language": "python",
   "name": "python3"
  },
  "language_info": {
   "codemirror_mode": {
    "name": "ipython",
    "version": 3
   },
   "file_extension": ".py",
   "mimetype": "text/x-python",
   "name": "python",
   "nbconvert_exporter": "python",
   "pygments_lexer": "ipython3",
   "version": "3.6.4"
  }
 },
 "nbformat": 4,
 "nbformat_minor": 1
}
