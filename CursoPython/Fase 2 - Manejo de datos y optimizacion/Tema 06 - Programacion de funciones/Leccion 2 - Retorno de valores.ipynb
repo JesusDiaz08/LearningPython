{
 "cells": [
  {
   "cell_type": "markdown",
   "metadata": {},
   "source": [
    "# RETORNO DE VALORES"
   ]
  },
  {
   "cell_type": "markdown",
   "metadata": {},
   "source": [
    "- Nosotros podemos utilizar funciones para retornar valores especificos con el fin de poder manipularlos."
   ]
  },
  {
   "cell_type": "code",
   "execution_count": 1,
   "metadata": {},
   "outputs": [
    {
     "name": "stdout",
     "output_type": "stream",
     "text": [
      "[1, 2, 3, 4, 5]\n"
     ]
    }
   ],
   "source": [
    "def dame_lista():\n",
    "    return [1,2,3,4,5]\n",
    "print(dame_lista())"
   ]
  },
  {
   "cell_type": "code",
   "execution_count": 3,
   "metadata": {},
   "outputs": [
    {
     "name": "stdout",
     "output_type": "stream",
     "text": [
      "[1, 2, 3]\n"
     ]
    }
   ],
   "source": [
    "print(dame_lista()[:3])"
   ]
  },
  {
   "cell_type": "markdown",
   "metadata": {},
   "source": [
    "## RETORNANDO MULTIPLES VALORES\n",
    "- Podemos retornar una tupla cuando **se retorna más de un valor en una función**, por ejemplos\n",
    "- Lo que se retorna es **una tupla**"
   ]
  },
  {
   "cell_type": "code",
   "execution_count": 4,
   "metadata": {},
   "outputs": [
    {
     "data": {
      "text/plain": [
       "(10, 'Yes', True, [1, 2, 4, 5])"
      ]
     },
     "execution_count": 4,
     "metadata": {},
     "output_type": "execute_result"
    }
   ],
   "source": [
    "def various():\n",
    "    return 10, \"Yes\", True, [1,2,4,5]    # REGRESANDO MULTIPLES VALORES\n",
    "\n",
    "various()"
   ]
  },
  {
   "cell_type": "code",
   "execution_count": 5,
   "metadata": {},
   "outputs": [
    {
     "data": {
      "text/plain": [
       "tuple"
      ]
     },
     "execution_count": 5,
     "metadata": {},
     "output_type": "execute_result"
    }
   ],
   "source": [
    "type(various())"
   ]
  },
  {
   "cell_type": "markdown",
   "metadata": {},
   "source": [
    "## CACHANDO MULTIPLES VALORES.\n",
    "- Una ventaja de las tuplas es que **nos permite realizar *ASIGNACIÓN MULTIPLE***, la cual también lo comparte con la lista."
   ]
  },
  {
   "cell_type": "code",
   "execution_count": 6,
   "metadata": {},
   "outputs": [
    {
     "name": "stdout",
     "output_type": "stream",
     "text": [
      "<class 'int'>\n",
      "<class 'str'>\n",
      "<class 'bool'>\n",
      "<class 'list'>\n"
     ]
    }
   ],
   "source": [
    "# Asignación múltiple\n",
    "numero,cadena,booleano,lista = various()\n",
    "print(type(numero))\n",
    "print(type(cadena))\n",
    "print(type(booleano))\n",
    "print(type(lista))"
   ]
  },
  {
   "cell_type": "code",
   "execution_count": 7,
   "metadata": {},
   "outputs": [
    {
     "name": "stdout",
     "output_type": "stream",
     "text": [
      "10\n",
      "Yes\n",
      "True\n",
      "[1, 2, 4, 5]\n"
     ]
    }
   ],
   "source": [
    "print((numero))\n",
    "print((cadena))\n",
    "print((booleano))\n",
    "print((lista))"
   ]
  }
 ],
 "metadata": {
  "kernelspec": {
   "display_name": "Python 3",
   "language": "python",
   "name": "python3"
  },
  "language_info": {
   "codemirror_mode": {
    "name": "ipython",
    "version": 3
   },
   "file_extension": ".py",
   "mimetype": "text/x-python",
   "name": "python",
   "nbconvert_exporter": "python",
   "pygments_lexer": "ipython3",
   "version": "3.7.3"
  }
 },
 "nbformat": 4,
 "nbformat_minor": 1
}
