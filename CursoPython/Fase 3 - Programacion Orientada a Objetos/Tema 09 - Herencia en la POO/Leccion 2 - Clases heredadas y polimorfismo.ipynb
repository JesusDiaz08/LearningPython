{
 "cells": [
  {
   "cell_type": "code",
   "execution_count": 1,
   "metadata": {},
   "outputs": [],
   "source": [
    "class Producto:\n",
    "    def __init__(self,referencia,nombre,pvp,descripcion):\n",
    "        self.referencia = referencia\n",
    "        self.nombre = nombre\n",
    "        self.pvp = pvp\n",
    "        self.descripcion = descripcion\n",
    "        \n",
    "    def __str__(self):\n",
    "        return \"\"\"\\\n",
    "REFERENCIA\\t{}\n",
    "NOMBRE\\t\\t{}\n",
    "PVP\\t\\t{}\n",
    "DESCRIPCIÓN\\t{}\"\"\".format(self.referencia,self.nombre,self.pvp,self.descripcion)\n",
    "    \n",
    "\n",
    "class Adorno(Producto):\n",
    "    pass\n",
    "\n",
    "\n",
    "class Alimento(Producto):\n",
    "    productor = \"\"\n",
    "    distribuidor = \"\"\n",
    "    \n",
    "    def __str__(self):\n",
    "        return \"\"\"\\\n",
    "REFERENCIA\\t{}\n",
    "NOMBRE\\t\\t{}\n",
    "PVP\\t\\t{}\n",
    "DESCRIPCIÓN\\t{}\n",
    "PRODUCTOR\\t{}\n",
    "DISTRIBUIDOR\\t{}\"\"\".format(self.referencia,self.nombre,self.pvp,self.descripcion,self.productor,self.distribuidor)\n",
    "\n",
    "\n",
    "class Libro(Producto):\n",
    "    isbn = \"\"\n",
    "    autor = \"\"\n",
    "    \n",
    "    def __str__(self):\n",
    "        return \"\"\"\\\n",
    "REFERENCIA\\t{}\n",
    "NOMBRE\\t\\t{}\n",
    "PVP\\t\\t{}\n",
    "DESCRIPCIÓN\\t{}\n",
    "ISBN\\t\\t{}\n",
    "AUTOR\\t\\t{}\"\"\".format(self.referencia,self.nombre,self.pvp,self.descripcion,self.isbn,self.autor)"
   ]
  },
  {
   "cell_type": "code",
   "execution_count": 2,
   "metadata": {},
   "outputs": [],
   "source": [
    "ad = Adorno(2034, \"Vaso adronado\", 15, \"Vaso de porcelana adornado con árboles\")\n",
    "\n",
    "al = Alimento(2035, \"Botella de Aceite de Oliva Extra\", 5, \"250 ML\")\n",
    "al.productor = \"La Aceitera\"\n",
    "al.distribuidor = \"Distribuciones S.A\"\n",
    "\n",
    "li = Libro(2036, \"Cocina mediterránea\", 9, \"Recetas sanas y buenas\")\n",
    "li.isbn = \"0-123456-78-9\"\n",
    "li.autor = \"Doña Pelos\""
   ]
  },
  {
   "cell_type": "markdown",
   "metadata": {},
   "source": [
    "Normalmente, para poder manejar los productos, debemos de tenerlos agrupados: Por ejemplo, en una colección: Como una lista."
   ]
  },
  {
   "cell_type": "code",
   "execution_count": 3,
   "metadata": {},
   "outputs": [],
   "source": [
    "productos = [ad, al]"
   ]
  },
  {
   "cell_type": "code",
   "execution_count": 4,
   "metadata": {},
   "outputs": [],
   "source": [
    "productos.append(li)"
   ]
  },
  {
   "cell_type": "code",
   "execution_count": 5,
   "metadata": {},
   "outputs": [
    {
     "data": {
      "text/plain": [
       "[<__main__.Adorno at 0x207ab6a80f0>,\n",
       " <__main__.Alimento at 0x207ab6a8128>,\n",
       " <__main__.Libro at 0x207ab6a8198>]"
      ]
     },
     "execution_count": 5,
     "metadata": {},
     "output_type": "execute_result"
    }
   ],
   "source": [
    "productos"
   ]
  },
  {
   "cell_type": "code",
   "execution_count": 6,
   "metadata": {},
   "outputs": [
    {
     "name": "stdout",
     "output_type": "stream",
     "text": [
      "REFERENCIA\t2034\n",
      "NOMBRE\t\tVaso adronado\n",
      "PVP\t\t15\n",
      "DESCRIPCIÓN\tVaso de porcelana adornado con árboles \n",
      "\n",
      "REFERENCIA\t2035\n",
      "NOMBRE\t\tBotella de Aceite de Oliva Extra\n",
      "PVP\t\t5\n",
      "DESCRIPCIÓN\t250 ML\n",
      "PRODUCTOR\tLa Aceitera\n",
      "DISTRIBUIDOR\tDistribuciones S.A \n",
      "\n",
      "REFERENCIA\t2036\n",
      "NOMBRE\t\tCocina mediterránea\n",
      "PVP\t\t9\n",
      "DESCRIPCIÓN\tRecetas sanas y buenas\n",
      "ISBN\t\t0-123456-78-9\n",
      "AUTOR\t\tDoña Pelos \n",
      "\n"
     ]
    }
   ],
   "source": [
    "for p in productos:\n",
    "    print(p, \"\\n\")"
   ]
  },
  {
   "cell_type": "code",
   "execution_count": 7,
   "metadata": {},
   "outputs": [
    {
     "name": "stdout",
     "output_type": "stream",
     "text": [
      "2034 Vaso adronado\n",
      "2035 Botella de Aceite de Oliva Extra\n",
      "2036 Cocina mediterránea\n"
     ]
    }
   ],
   "source": [
    "# Podriamos hacer referencia a los atributos de los objetos.\n",
    "for p in productos:\n",
    "    print(p.referencia, p.nombre)"
   ]
  },
  {
   "cell_type": "code",
   "execution_count": 8,
   "metadata": {},
   "outputs": [
    {
     "ename": "AttributeError",
     "evalue": "'Adorno' object has no attribute 'autor'",
     "output_type": "error",
     "traceback": [
      "\u001b[1;31m---------------------------------------------------------------------------\u001b[0m",
      "\u001b[1;31mAttributeError\u001b[0m                            Traceback (most recent call last)",
      "\u001b[1;32m<ipython-input-8-b25b4846446c>\u001b[0m in \u001b[0;36m<module>\u001b[1;34m\u001b[0m\n\u001b[0;32m      1\u001b[0m \u001b[1;31m# Si intentamos acceder de todos los objetos, a atributos que solo tienen ciertos atributos, habría problema.\u001b[0m\u001b[1;33m\u001b[0m\u001b[1;33m\u001b[0m\u001b[1;33m\u001b[0m\u001b[0m\n\u001b[0;32m      2\u001b[0m \u001b[1;32mfor\u001b[0m \u001b[0mp\u001b[0m \u001b[1;32min\u001b[0m \u001b[0mproductos\u001b[0m\u001b[1;33m:\u001b[0m\u001b[1;33m\u001b[0m\u001b[1;33m\u001b[0m\u001b[0m\n\u001b[1;32m----> 3\u001b[1;33m     \u001b[0mprint\u001b[0m\u001b[1;33m(\u001b[0m\u001b[0mp\u001b[0m\u001b[1;33m.\u001b[0m\u001b[0mautor\u001b[0m\u001b[1;33m)\u001b[0m\u001b[1;33m\u001b[0m\u001b[1;33m\u001b[0m\u001b[0m\n\u001b[0m",
      "\u001b[1;31mAttributeError\u001b[0m: 'Adorno' object has no attribute 'autor'"
     ]
    }
   ],
   "source": [
    "# Si intentamos acceder de todos los objetos, a atributos que solo tienen ciertos atributos, habría problema.\n",
    "for p in productos:\n",
    "    print(p.autor)"
   ]
  },
  {
   "cell_type": "markdown",
   "metadata": {},
   "source": [
    "> Debemos de buscar una forma de poder gestionar distintos tipos de objetos/clases.\n",
    "\n",
    "__Debemos de comprobar _qué tipo de objeto/clase es_ utilizando `isintance(instancia,class)`__"
   ]
  },
  {
   "cell_type": "code",
   "execution_count": 9,
   "metadata": {},
   "outputs": [
    {
     "name": "stdout",
     "output_type": "stream",
     "text": [
      "2034 Vaso adronado\n",
      "2035 Botella de Aceite de Oliva Extra La Aceitera\n",
      "2036 Cocina mediterránea 0-123456-78-9\n"
     ]
    }
   ],
   "source": [
    "for p in productos:\n",
    "    if( isinstance(p, Adorno)):\n",
    "        print(p.referencia, p.nombre)\n",
    "    elif( isinstance(p, Alimento)):\n",
    "        print(p.referencia, p.nombre, p.productor)\n",
    "    elif( isinstance(p, Libro)):\n",
    "        print(p.referencia, p.nombre, p.isbn)"
   ]
  },
  {
   "cell_type": "code",
   "execution_count": 10,
   "metadata": {},
   "outputs": [
    {
     "name": "stdout",
     "output_type": "stream",
     "text": [
      "REFERENCIA\t2035\n",
      "NOMBRE\t\tBotella de Aceite de Oliva Extra\n",
      "PVP\t\t4.5\n",
      "DESCRIPCIÓN\t250 ML\n",
      "PRODUCTOR\tLa Aceitera\n",
      "DISTRIBUIDOR\tDistribuciones S.A\n"
     ]
    }
   ],
   "source": [
    "def rebajar_producto(p, rebaja = 10):\n",
    "    \"\"\"Devuelve un producto con una rebaja en porcentaje de su precio\"\"\"\n",
    "    p.pvp = p.pvp - ( p.pvp/100 * rebaja)\n",
    "    return p\n",
    "\n",
    "ali_rebajado = rebajar_producto(al, 10)\n",
    "print(ali_rebajado)"
   ]
  },
  {
   "cell_type": "code",
   "execution_count": 11,
   "metadata": {},
   "outputs": [
    {
     "name": "stdout",
     "output_type": "stream",
     "text": [
      "REFERENCIA\t2035\n",
      "NOMBRE\t\tBotella de Aceite de Oliva Extra\n",
      "PVP\t\t4.5\n",
      "DESCRIPCIÓN\t250 ML\n",
      "PRODUCTOR\tLa Aceitera\n",
      "DISTRIBUIDOR\tDistribuciones S.A\n"
     ]
    }
   ],
   "source": [
    "# los objetos se pasan por referencia y no por valor.\n",
    "print(al) # Original "
   ]
  },
  {
   "cell_type": "markdown",
   "metadata": {},
   "source": [
    "Podemos observar que a pesar de que se un nuevo objeto, el objeto original también se ve afectado por el descuento que se hace. __ESTO ES PORQUE SE REALIZA POR REFERENCIA.__\n",
    "\n",
    "Paso por valor: Se crea una copia\n",
    "Paso por referencia: Se pasa el original."
   ]
  },
  {
   "cell_type": "markdown",
   "metadata": {},
   "source": [
    "Es decir, si nosotros hacemos lo siguiente:\n",
    "\n",
    "```python\n",
    "copia_al = al\n",
    "copia_al.referencia = 2038\n",
    "print(copia_al)\n",
    "\n",
    "#Salida\n",
    "REFERENCIA\t2038\n",
    "NOMBRE\t\tBotella de Aceite de Oliva Extra\n",
    "PVP\t\t    4.5\n",
    "DESCRIPCIÓN\t250 ML\n",
    "PRODUCTOR\t    La Aceitera\n",
    "DISTRIBUIDOR\tDistribuciones S.A\n",
    "```\n",
    "__También el objeto original se ve afectado__\n",
    "```python\n",
    "print(al)\n",
    "\n",
    "#Salida:\n",
    "REFERENCIA\t2038\n",
    "NOMBRE\t\tBotella de Aceite de Oliva Extra\n",
    "PVP\t\t    4.5\n",
    "DESCRIPCIÓN\t250 ML\n",
    "PRODUCTOR\t    La Aceitera\n",
    "DISTRIBUIDOR\tDistribuciones S.A\n",
    "```"
   ]
  },
  {
   "cell_type": "markdown",
   "metadata": {},
   "source": [
    "__Debemos tener cuidado al trabajar con objetos. Por tanto, este comportamiento pasa mucho con las listas, estructuras de datos, etc.__\n",
    "\n",
    "PARA ESTO DEBEMOS UTILIZAR __`import copy`__, haciendo lo siguiente."
   ]
  },
  {
   "cell_type": "code",
   "execution_count": 13,
   "metadata": {},
   "outputs": [
    {
     "name": "stdout",
     "output_type": "stream",
     "text": [
      "REFERENCIA\t2034\n",
      "NOMBRE\t\tVaso adronado\n",
      "PVP\t\t15\n",
      "DESCRIPCIÓN\tVaso de porcelana adornado con árboles\n"
     ]
    }
   ],
   "source": [
    "import copy\n",
    "copia_ad = copy.copy(ad)\n",
    "\n",
    "print(copia_ad)"
   ]
  },
  {
   "cell_type": "code",
   "execution_count": 14,
   "metadata": {},
   "outputs": [
    {
     "name": "stdout",
     "output_type": "stream",
     "text": [
      "REFERENCIA\t2034\n",
      "NOMBRE\t\tVaso adronado\n",
      "PVP\t\t25\n",
      "DESCRIPCIÓN\tVaso de porcelana adornado con árboles\n"
     ]
    }
   ],
   "source": [
    "copia_ad.pvp = 25\n",
    "print(copia_ad)"
   ]
  },
  {
   "cell_type": "code",
   "execution_count": 15,
   "metadata": {},
   "outputs": [
    {
     "name": "stdout",
     "output_type": "stream",
     "text": [
      "REFERENCIA\t2034\n",
      "NOMBRE\t\tVaso adronado\n",
      "PVP\t\t15\n",
      "DESCRIPCIÓN\tVaso de porcelana adornado con árboles\n"
     ]
    }
   ],
   "source": [
    "print(ad)"
   ]
  },
  {
   "cell_type": "markdown",
   "metadata": {},
   "source": [
    "__EVITAMOS AFECTAR EL ORIGINAL__"
   ]
  },
  {
   "cell_type": "code",
   "execution_count": null,
   "metadata": {},
   "outputs": [],
   "source": []
  }
 ],
 "metadata": {
  "kernelspec": {
   "display_name": "Python 3",
   "language": "python",
   "name": "python3"
  },
  "language_info": {
   "codemirror_mode": {
    "name": "ipython",
    "version": 3
   },
   "file_extension": ".py",
   "mimetype": "text/x-python",
   "name": "python",
   "nbconvert_exporter": "python",
   "pygments_lexer": "ipython3",
   "version": "3.7.3"
  }
 },
 "nbformat": 4,
 "nbformat_minor": 1
}
