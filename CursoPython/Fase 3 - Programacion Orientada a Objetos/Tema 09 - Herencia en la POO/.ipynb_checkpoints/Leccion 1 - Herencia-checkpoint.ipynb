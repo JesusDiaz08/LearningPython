{
 "cells": [
  {
   "cell_type": "markdown",
   "metadata": {},
   "source": [
    "## Herencia\n",
    "* Es una de las funcionalidades clásicas de la programación orientada a objetos.\n",
    "> __Es la capacidad de una clase de heredar los atributos y métodos de otra.__ Además de *agregar nuevos y modificar los heredados*\n",
    "\n",
    "De allí se crea la relación de __clases madres__(*Superclase*) y __clases hijas__(*Subclase*)"
   ]
  },
  {
   "cell_type": "code",
   "execution_count": 1,
   "metadata": {},
   "outputs": [],
   "source": [
    "class Producto:\n",
    "    \n",
    "    def __init__(self, referencia, tipo, nombre, pvp, descripcion, productor = None, distribuidor = None, isbn = None, autor = None):\n",
    "        self.referencia = referencia\n",
    "        self.tipo = tipo\n",
    "        self.nombre = nombre\n",
    "        self.pvp = pvp\n",
    "        self.descripcion = descripcion\n",
    "        self.productor = productor\n",
    "        self.distribuidor = distribuidor\n",
    "        self.isbn = isbn\n",
    "        self.autor = autor\n",
    "        \n",
    "adorno = Producto('000A', 'ADORNO', \"Vaso adornado\", 15, 'Vaso de porcelana con dibujos')"
   ]
  },
  {
   "cell_type": "code",
   "execution_count": 2,
   "metadata": {},
   "outputs": [
    {
     "data": {
      "text/plain": [
       "<__main__.Producto at 0x1d7d2d21c18>"
      ]
     },
     "execution_count": 2,
     "metadata": {},
     "output_type": "execute_result"
    }
   ],
   "source": [
    "adorno"
   ]
  },
  {
   "cell_type": "code",
   "execution_count": 3,
   "metadata": {},
   "outputs": [
    {
     "data": {
      "text/plain": [
       "'ADORNO'"
      ]
     },
     "execution_count": 3,
     "metadata": {},
     "output_type": "execute_result"
    }
   ],
   "source": [
    "adorno.tipo"
   ]
  },
  {
   "cell_type": "markdown",
   "metadata": {},
   "source": [
    "> Aunque esto es una opción, es un poco engorroso, ya que:\n",
    "> * Hay demasiados atributos.\n",
    "> * Estamos mezclando atributos de libros (isbn) con otros (productor)\n",
    "> * Cada vez que tengamos que listar los productos de un tipo, tendremos que recorrerlos todo y comparar con el que estamos buscando.\n",
    "\n",
    "__SE NECESITA UNA JERARQUÍA PARA DARLE UN MEJOR PLANTEAMIENTO__.\n",
    "> La herencia puede ayudar aquí. Entonces ubiquemos quién es __la superclase__ y sus __subclases__.\n",
    "\n",
    "* __Superclase__: Es lo común de un producto, por lo que ya no hace falta el atributo `tipo`. Entonces, esta __superclase__ podría estar conformada por los siguientes atributos:\n",
    "```python\n",
    "def __init__(self, referencia, nombre, pvp, descripcion):\n",
    "        self.referencia = referencia\n",
    "        self.nombre = nombre\n",
    "        self.pvp = pvp\n",
    "        self.descripcion = descripcion\n",
    "```\n",
    "* __Subclases__: Podrían ser clasificadas como\n",
    "    * Adornos.\n",
    "    * Alimentos.\n",
    "    * Libros.\n",
    "   \n",
    "Podríamos ubicar qué atributos pertenecerían a cada subclase:\n",
    "```python\n",
    "def __init__(self, referencia, tipo, nombre, pvp, descripcion, productor = None, distribuidor = None, isbn = None, autor = None):\n",
    "        self.referencia = referencia           # Todos\n",
    "        self.tipo = tipo                       # Todos\n",
    "        self.nombre = nombre                   # Todos\n",
    "        self.pvp = pvp                         # Todos\n",
    "        self.descripcion = descripcion         # Todos\n",
    "        self.productor = productor             # Alimento\n",
    "        self.distribuidor = distribuidor       # Alimento\n",
    "        self.isbn = isbn                       # Libro\n",
    "        self.autor = autor                     # Libro\n",
    "```\n",
    "Entonces, empecemos a codificar según el orden."
   ]
  },
  {
   "cell_type": "code",
   "execution_count": 12,
   "metadata": {},
   "outputs": [],
   "source": [
    "class Producto:\n",
    "    \n",
    "    def __init__(self, referencia, nombre, pvp, descripcion):\n",
    "        self.referencia = referencia\n",
    "        self.nombre = nombre\n",
    "        self.pvp = pvp\n",
    "        self.descripcion = descripcion\n",
    "        \n",
    "    # Describe la info del producto\n",
    "    def __str__(self):\n",
    "        return \"\"\"\\\n",
    "REFERENCIA:\\t{}\n",
    "NOMBRE:\\t\\t{}\n",
    "PVP:\\t\\t{}\n",
    "DESCRIPCION:\\t{}\"\"\".format(self.referencia, self.nombre, self.pvp, self.descripcion)\n",
    "    \n",
    "class Adorno(Producto):\n",
    "    pass"
   ]
  },
  {
   "cell_type": "markdown",
   "metadata": {},
   "source": [
    "Para hacer referencia que una clase hereda de otra hacemos lo siguiente: \n",
    "* `class Adorno(Producto):` Aqui la clase __Adorno__ hereda de __Producto__."
   ]
  },
  {
   "cell_type": "code",
   "execution_count": 13,
   "metadata": {},
   "outputs": [
    {
     "name": "stdout",
     "output_type": "stream",
     "text": [
      "REFERENCIA:\t2034\n",
      "NOMBRE:\t\tVaso adornado\n",
      "PVP:\t\t42.5\n",
      "DESCRIPCION:\tVaso con dibujos animados\n"
     ]
    }
   ],
   "source": [
    "# Creando una instancia\n",
    "a = Adorno(2034, \"Vaso adornado\", 42.50, \"Vaso con dibujos animados\")\n",
    "print(str(a))"
   ]
  },
  {
   "cell_type": "code",
   "execution_count": 16,
   "metadata": {},
   "outputs": [
    {
     "name": "stdout",
     "output_type": "stream",
     "text": [
      "REFERENCIA:\t2035\n",
      "NOMBRE:\t\tBotella de Aceite Oliva\n",
      "PVP:\t\t5\n",
      "DESCRIPCION:\t250 ML\n",
      "PRODUCTOR:\tLa Aceitera\n",
      "DISTRIBUIDOR:\tDistribuciones S.A\n"
     ]
    }
   ],
   "source": [
    "# Ahora hacemos la clase Alimento que herede de Producto, con nuevos atributos\n",
    "class Alimento(Producto):\n",
    "    productor = \"\"\n",
    "    distribuidor = \"\"\n",
    "    \n",
    "        # Describe la info del producto de Alimento\n",
    "    def __str__(self):\n",
    "        return \"\"\"\\\n",
    "REFERENCIA:\\t{}\n",
    "NOMBRE:\\t\\t{}\n",
    "PVP:\\t\\t{}\n",
    "DESCRIPCION:\\t{}\n",
    "PRODUCTOR:\\t{}\n",
    "DISTRIBUIDOR:\\t{}\"\"\".format(self.referencia, self.nombre, self.pvp, self.descripcion, self.productor, self.distribuidor)\n",
    "\n",
    "al = Alimento(2035, \"Botella de Aceite Oliva\", 5, \"250 ML\")\n",
    "al.productor = \"La Aceitera\"\n",
    "al.distribuidor = \"Distribuciones S.A\"\n",
    "\n",
    "print(al)"
   ]
  },
  {
   "cell_type": "code",
   "execution_count": 18,
   "metadata": {},
   "outputs": [
    {
     "name": "stdout",
     "output_type": "stream",
     "text": [
      "REFERENCIA:\t2036\n",
      "NOMBRE:\t\tCocina Mediterránea\n",
      "PVP:\t\t9\n",
      "DESCRIPCION:\tRecetas sanas y buenas\n",
      "ISBN:\t\t0-12345678-9\n",
      "AUTOR:\t\tDoña Pelos\n"
     ]
    }
   ],
   "source": [
    "# Ahora hacemos la clase Alimento que herede de Producto, con nuevos atributos\n",
    "class Libro(Producto):\n",
    "    isbn = \"\"\n",
    "    autor = \"\"\n",
    "    \n",
    "        # Describe la info del producto de Alimento\n",
    "    def __str__(self):\n",
    "        return \"\"\"\\\n",
    "REFERENCIA:\\t{}\n",
    "NOMBRE:\\t\\t{}\n",
    "PVP:\\t\\t{}\n",
    "DESCRIPCION:\\t{}\n",
    "ISBN:\\t\\t{}\n",
    "AUTOR:\\t\\t{}\"\"\".format(self.referencia, self.nombre, self.pvp, self.descripcion, self.isbn, self.autor)\n",
    "\n",
    "li = Libro(2036, \"Cocina Mediterránea\", 9, \"Recetas sanas y buenas\")\n",
    "li.isbn = \"0-12345678-9\"\n",
    "li.autor = \"Doña Pelos\"\n",
    "\n",
    "print(li)"
   ]
  }
 ],
 "metadata": {
  "kernelspec": {
   "display_name": "Python 3",
   "language": "python",
   "name": "python3"
  },
  "language_info": {
   "codemirror_mode": {
    "name": "ipython",
    "version": 3
   },
   "file_extension": ".py",
   "mimetype": "text/x-python",
   "name": "python",
   "nbconvert_exporter": "python",
   "pygments_lexer": "ipython3",
   "version": "3.7.3"
  }
 },
 "nbformat": 4,
 "nbformat_minor": 1
}
