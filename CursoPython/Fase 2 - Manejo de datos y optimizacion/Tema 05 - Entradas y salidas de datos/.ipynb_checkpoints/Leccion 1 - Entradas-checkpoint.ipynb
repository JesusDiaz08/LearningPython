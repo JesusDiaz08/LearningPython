{
 "cells": [
  {
   "cell_type": "markdown",
   "metadata": {},
   "source": [
    "# Entradas de datos\n",
    "La manera más tipica de poder ingresar datos en python es **utilizando la función input()**, y se castea dependiendo del valor que se espera recibir."
   ]
  },
  {
   "cell_type": "code",
   "execution_count": 2,
   "metadata": {},
   "outputs": [
    {
     "name": "stdout",
     "output_type": "stream",
     "text": [
      "Ingrese un numero decimal con punto: 7887.23323\n",
      "Numero decimal ingresado:  7887.23323\n"
     ]
    }
   ],
   "source": [
    "decimal = float(input(\"Ingrese un numero decimal con punto: \"))\n",
    "print(\"Numero decimal ingresado: \", decimal)"
   ]
  },
  {
   "cell_type": "markdown",
   "metadata": {},
   "source": [
    "A pesar de ello podemos pedir más de un valor y pedir más datos."
   ]
  },
  {
   "cell_type": "code",
   "execution_count": 4,
   "metadata": {},
   "outputs": [
    {
     "name": "stdout",
     "output_type": "stream",
     "text": [
      "|--- Ingrese 5 valores ---|\n",
      "Introduce el valor: 1\n",
      "Introduce el valor: 6\n",
      "Introduce el valor: kjsjk\n",
      "Introduce el valor: True\n",
      "Introduce el valor: 4\n"
     ]
    }
   ],
   "source": [
    "valores = []\n",
    "print(\"|--- Ingrese 5 valores ---|\")\n",
    "for i in range(5):\n",
    "    valores.append(input(\"Introduce el valor: \"))"
   ]
  },
  {
   "cell_type": "code",
   "execution_count": 5,
   "metadata": {},
   "outputs": [
    {
     "data": {
      "text/plain": [
       "['1', '6', 'kjsjk', 'True', '4']"
      ]
     },
     "execution_count": 5,
     "metadata": {},
     "output_type": "execute_result"
    }
   ],
   "source": [
    "valores"
   ]
  },
  {
   "cell_type": "markdown",
   "metadata": {},
   "source": [
    "Sin embargo, en la vida real no se suele utilizar la terminal para poder leer dichos valores.\n",
    "Normalmente se toman de *ficheros, bases de datos*, o incluso **utilizando interfaces graficas**."
   ]
  }
 ],
 "metadata": {
  "kernelspec": {
   "display_name": "Python 3",
   "language": "python",
   "name": "python3"
  },
  "language_info": {
   "codemirror_mode": {
    "name": "ipython",
    "version": 3
   },
   "file_extension": ".py",
   "mimetype": "text/x-python",
   "name": "python",
   "nbconvert_exporter": "python",
   "pygments_lexer": "ipython3",
   "version": "3.6.4"
  }
 },
 "nbformat": 4,
 "nbformat_minor": 1
}
