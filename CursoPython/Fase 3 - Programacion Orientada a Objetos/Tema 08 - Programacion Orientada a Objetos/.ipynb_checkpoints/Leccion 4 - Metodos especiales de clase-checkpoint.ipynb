{
 "cells": [
  {
   "cell_type": "markdown",
   "metadata": {},
   "source": [
    "# Métodos especiales de clase."
   ]
  },
  {
   "cell_type": "code",
   "execution_count": 1,
   "metadata": {},
   "outputs": [
    {
     "name": "stdout",
     "output_type": "stream",
     "text": [
      "Se ha creado la pelicula El Padrino\n"
     ]
    }
   ],
   "source": [
    "class Pelicula:\n",
    "    \n",
    "    # Constructor de clase\n",
    "    def __init__(self, titulo, duracion, lanzamiento):\n",
    "        self.titulo = titulo\n",
    "        self.duracion = duracion\n",
    "        self.lanzamiento = lanzamiento\n",
    "        print(\"Se ha creado la pelicula\", self.titulo)\n",
    "        \n",
    "# Instancia de la clase Pelicula\n",
    "peli = Pelicula(\"El Padrino\", 175, 1972)"
   ]
  },
  {
   "cell_type": "markdown",
   "metadata": {},
   "source": [
    "> De la misma manera que `__init__` sirve como __constructor__, también existe el __destructor__, el cual __se ejecuta al borrar una instancia__\n",
    ">\n",
    "> Por defecto, el __destructor__ pasa por desapercibido, pero se puede meter algún mensaje para ver lo que ocurre."
   ]
  },
  {
   "cell_type": "code",
   "execution_count": 2,
   "metadata": {},
   "outputs": [
    {
     "name": "stdout",
     "output_type": "stream",
     "text": [
      "Se ha creado la pelicula El Padrino\n",
      "Se está borrando la película El Padrino\n",
      "Se está borrando la película El Padrino\n"
     ]
    }
   ],
   "source": [
    "class Pelicula:\n",
    "    \n",
    "    # Constructor de clase\n",
    "    def __init__(self, titulo, duracion, lanzamiento):\n",
    "        self.titulo = titulo\n",
    "        self.duracion = duracion\n",
    "        self.lanzamiento = lanzamiento\n",
    "        print(\"Se ha creado la pelicula\", self.titulo)\n",
    "    \n",
    "    # Destructor de clase\n",
    "    def __del__(self):\n",
    "        print(\"Se está borrando la película\", self.titulo)\n",
    "        \n",
    "# Instancia de la clase Pelicula\n",
    "peli = Pelicula(\"El Padrino\", 175, 1972)\n",
    "\n",
    "# Borrando la película usando del\n",
    "del(peli) # Se visualiza 2 veces por que una es con respecto a la ejecución del metodo _del_ y otra cuando ha acabado el script"
   ]
  },
  {
   "cell_type": "code",
   "execution_count": 5,
   "metadata": {},
   "outputs": [
    {
     "name": "stdout",
     "output_type": "stream",
     "text": [
      "Se ha creado la pelicula El Padrino\n"
     ]
    }
   ],
   "source": [
    "# Instancia de la clase Pelicula\n",
    "peli = Pelicula(\"El Padrino\", 175, 1972)"
   ]
  },
  {
   "cell_type": "code",
   "execution_count": 6,
   "metadata": {},
   "outputs": [
    {
     "data": {
      "text/plain": [
       "<__main__.Pelicula at 0x16aa922d390>"
      ]
     },
     "execution_count": 6,
     "metadata": {},
     "output_type": "execute_result"
    }
   ],
   "source": [
    "peli"
   ]
  },
  {
   "cell_type": "markdown",
   "metadata": {},
   "source": [
    "Otro método interesante es __string__ (str)"
   ]
  },
  {
   "cell_type": "code",
   "execution_count": 3,
   "metadata": {},
   "outputs": [
    {
     "data": {
      "text/plain": [
       "'10'"
      ]
     },
     "execution_count": 3,
     "metadata": {},
     "output_type": "execute_result"
    }
   ],
   "source": [
    "str(10)"
   ]
  },
  {
   "cell_type": "code",
   "execution_count": 7,
   "metadata": {},
   "outputs": [
    {
     "data": {
      "text/plain": [
       "'<__main__.Pelicula object at 0x0000016AA922D390>'"
      ]
     },
     "execution_count": 7,
     "metadata": {},
     "output_type": "execute_result"
    }
   ],
   "source": [
    "# Si hacemos esto, con la instancia peli\n",
    "str(peli)"
   ]
  },
  {
   "cell_type": "markdown",
   "metadata": {},
   "source": [
    "Esto es una referencia a la instancia de tipo película, almacenada den la direccion de memoria `0x0000016AA922D390`.\n",
    "\n",
    "De hecho, nosotros poder redefinir esta clase `Pelicula`, con su método string interno, de la siguiente manera:"
   ]
  },
  {
   "cell_type": "code",
   "execution_count": 8,
   "metadata": {},
   "outputs": [
    {
     "name": "stdout",
     "output_type": "stream",
     "text": [
      "Se ha creado la pelicula El Padrino\n"
     ]
    }
   ],
   "source": [
    "class Pelicula:\n",
    "    \n",
    "    # Constructor de clase\n",
    "    def __init__(self, titulo, duracion, lanzamiento):\n",
    "        self.titulo = titulo\n",
    "        self.duracion = duracion\n",
    "        self.lanzamiento = lanzamiento\n",
    "        print(\"Se ha creado la pelicula\", self.titulo)\n",
    "    \n",
    "    # Destructor de clase\n",
    "    def __del__(self):\n",
    "        print(\"Se está borrando la película\", self.titulo)\n",
    "    \n",
    "    # Redefinimos el método string\n",
    "    def __str__(self):\n",
    "        return \"{} lanzada en {} con una duracion de {} minutos\".format(self.titulo, self.lanzamiento, self.duracion)\n",
    "    \n",
    "# Instancia de la clase Pelicula\n",
    "peli = Pelicula(\"El Padrino\", 175, 1972)"
   ]
  },
  {
   "cell_type": "code",
   "execution_count": 9,
   "metadata": {},
   "outputs": [
    {
     "data": {
      "text/plain": [
       "'El Padrino lanzada en 1972 con una duracion de 175 minutos'"
      ]
     },
     "execution_count": 9,
     "metadata": {},
     "output_type": "execute_result"
    }
   ],
   "source": [
    "str(peli)"
   ]
  },
  {
   "cell_type": "markdown",
   "metadata": {},
   "source": [
    "> `string` nos sirve, más que nada, conseguir información de nuestros objetos."
   ]
  },
  {
   "cell_type": "code",
   "execution_count": 10,
   "metadata": {},
   "outputs": [
    {
     "ename": "NameError",
     "evalue": "name 'p' is not defined",
     "output_type": "error",
     "traceback": [
      "\u001b[1;31m---------------------------------------------------------------------------\u001b[0m",
      "\u001b[1;31mNameError\u001b[0m                                 Traceback (most recent call last)",
      "\u001b[1;32m<ipython-input-10-3d9d6586c8d9>\u001b[0m in \u001b[0;36m<module>\u001b[1;34m\u001b[0m\n\u001b[1;32m----> 1\u001b[1;33m \u001b[0mlen\u001b[0m\u001b[1;33m(\u001b[0m\u001b[0mp\u001b[0m\u001b[1;33m)\u001b[0m\u001b[1;33m\u001b[0m\u001b[1;33m\u001b[0m\u001b[0m\n\u001b[0m",
      "\u001b[1;31mNameError\u001b[0m: name 'p' is not defined"
     ]
    }
   ],
   "source": [
    "len(p)"
   ]
  },
  {
   "cell_type": "code",
   "execution_count": 11,
   "metadata": {},
   "outputs": [
    {
     "name": "stdout",
     "output_type": "stream",
     "text": [
      "Se ha creado la pelicula El Padrino\n"
     ]
    }
   ],
   "source": [
    "# Podemos redefinir el método len\n",
    "class Pelicula:\n",
    "    \n",
    "    # Constructor de clase\n",
    "    def __init__(self, titulo, duracion, lanzamiento):\n",
    "        self.titulo = titulo\n",
    "        self.duracion = duracion\n",
    "        self.lanzamiento = lanzamiento\n",
    "        print(\"Se ha creado la pelicula\", self.titulo)\n",
    "    \n",
    "    # Destructor de clase\n",
    "    def __del__(self):\n",
    "        print(\"Se está borrando la película\", self.titulo)\n",
    "    \n",
    "    # Redefinimos el método string\n",
    "    def __str__(self):\n",
    "        return \"{} lanzada en {} con una duracion de {} minutos\".format(self.titulo, self.lanzamiento, self.duracion)\n",
    "    \n",
    "    # Redefinimos el metodo length\n",
    "    def __len__(self):\n",
    "        return self.duracion\n",
    "    \n",
    "# Instancia de la clase Pelicula\n",
    "peli = Pelicula(\"El Padrino\", 175, 1972)"
   ]
  },
  {
   "cell_type": "code",
   "execution_count": 12,
   "metadata": {},
   "outputs": [
    {
     "data": {
      "text/plain": [
       "175"
      ]
     },
     "execution_count": 12,
     "metadata": {},
     "output_type": "execute_result"
    }
   ],
   "source": [
    "len(peli)"
   ]
  },
  {
   "cell_type": "markdown",
   "metadata": {},
   "source": [
    "> __ESTOS METODOS SON PARTICULARES YA QUE NO USAN EL OPERADOR DOT (.) para ejecutarlos__"
   ]
  },
  {
   "cell_type": "code",
   "execution_count": null,
   "metadata": {},
   "outputs": [],
   "source": []
  }
 ],
 "metadata": {
  "kernelspec": {
   "display_name": "Python 3",
   "language": "python",
   "name": "python3"
  },
  "language_info": {
   "codemirror_mode": {
    "name": "ipython",
    "version": 3
   },
   "file_extension": ".py",
   "mimetype": "text/x-python",
   "name": "python",
   "nbconvert_exporter": "python",
   "pygments_lexer": "ipython3",
   "version": "3.7.3"
  }
 },
 "nbformat": 4,
 "nbformat_minor": 1
}
