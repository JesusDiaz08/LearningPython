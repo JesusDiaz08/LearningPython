{
 "cells": [
  {
   "cell_type": "markdown",
   "metadata": {},
   "source": [
    "# Errores y Excepciones\n",
    "\n",
    "## Excepción\n",
    "> Es un bloque de código _excepcional_ que nos permitirá **continuar con la ejecución aunque ocurra un error**"
   ]
  },
  {
   "cell_type": "code",
   "execution_count": 1,
   "metadata": {},
   "outputs": [
    {
     "name": "stdout",
     "output_type": "stream",
     "text": [
      "Introduce un numero:\tanana\n"
     ]
    },
    {
     "ename": "ValueError",
     "evalue": "could not convert string to float: 'anana'",
     "output_type": "error",
     "traceback": [
      "\u001b[1;31m---------------------------------------------------------------------------\u001b[0m",
      "\u001b[1;31mValueError\u001b[0m                                Traceback (most recent call last)",
      "\u001b[1;32m<ipython-input-1-cf1dd12a474c>\u001b[0m in \u001b[0;36m<module>\u001b[1;34m\u001b[0m\n\u001b[1;32m----> 1\u001b[1;33m \u001b[0mn\u001b[0m \u001b[1;33m=\u001b[0m \u001b[0mfloat\u001b[0m\u001b[1;33m(\u001b[0m\u001b[0minput\u001b[0m\u001b[1;33m(\u001b[0m\u001b[1;34m\"Introduce un numero:\\t\"\u001b[0m\u001b[1;33m)\u001b[0m\u001b[1;33m)\u001b[0m   \u001b[1;31m# Que pasa si introduce una cadena de caracteres....\u001b[0m\u001b[1;33m\u001b[0m\u001b[1;33m\u001b[0m\u001b[0m\n\u001b[0m\u001b[0;32m      2\u001b[0m \u001b[0mm\u001b[0m \u001b[1;33m=\u001b[0m \u001b[1;36m4\u001b[0m\u001b[1;33m\u001b[0m\u001b[1;33m\u001b[0m\u001b[0m\n\u001b[0;32m      3\u001b[0m \u001b[0mprint\u001b[0m\u001b[1;33m(\u001b[0m\u001b[1;34m\"{}/{} = {}\"\u001b[0m\u001b[1;33m.\u001b[0m\u001b[0mformat\u001b[0m\u001b[1;33m(\u001b[0m\u001b[0mn\u001b[0m\u001b[1;33m,\u001b[0m\u001b[0mm\u001b[0m\u001b[1;33m,\u001b[0m\u001b[0mn\u001b[0m\u001b[1;33m/\u001b[0m\u001b[0mm\u001b[0m\u001b[1;33m)\u001b[0m\u001b[1;33m)\u001b[0m\u001b[1;33m\u001b[0m\u001b[1;33m\u001b[0m\u001b[0m\n",
      "\u001b[1;31mValueError\u001b[0m: could not convert string to float: 'anana'"
     ]
    }
   ],
   "source": [
    "n = float(input(\"Introduce un numero:\\t\"))   # Que pasa si introduce una cadena de caracteres....\n",
    "m = 4\n",
    "print(\"{}/{} = {}\".format(n,m,n/m))"
   ]
  },
  {
   "cell_type": "markdown",
   "metadata": {},
   "source": [
    "Creamos la excepcion\n",
    "```python\n",
    "try:\n",
    "    # Aqui va todo el código propenso a errores\n",
    "    n = float(input(\"Introduce un numero:\\t\"))   # Que pasa si introduce una cadena de caracteres....\n",
    "    m = 4\n",
    "    print(\"{}/{} = {}\".format(n,m,n/m))\n",
    "except:\n",
    "    # Aqui se detecta el momento en que ocurre una excepcion\n",
    "    print(\"Ha ocurrido un error.\")\n",
    "```   "
   ]
  },
  {
   "cell_type": "code",
   "execution_count": 2,
   "metadata": {},
   "outputs": [
    {
     "name": "stdout",
     "output_type": "stream",
     "text": [
      "Introduce un numero:\tjaja\n",
      "Ha ocurrido un error.\n",
      "Introduce bien el número\n"
     ]
    }
   ],
   "source": [
    "try:\n",
    "    # Aqui va todo el código propenso a errores\n",
    "    n = float(input(\"Introduce un numero:\\t\"))   # Que pasa si introduce una cadena de caracteres....\n",
    "    m = 4\n",
    "    print(\"{}/{} = {}\".format(n,m,n/m))\n",
    "except:\n",
    "    # Aqui se detecta el momento en que ocurre una excepcion\n",
    "    print(\"Ha ocurrido un error.\\nIntroduce bien el número\")"
   ]
  },
  {
   "cell_type": "code",
   "execution_count": 3,
   "metadata": {},
   "outputs": [
    {
     "name": "stdout",
     "output_type": "stream",
     "text": [
      "Introduce un numero:\tjaja\n",
      "Ha ocurrido un error.\n",
      "Introduce bien el número\n",
      "Introduce un numero:\tjdshjd\n",
      "Ha ocurrido un error.\n",
      "Introduce bien el número\n",
      "Introduce un numero:\t2\n",
      "2.0/4 = 0.5\n"
     ]
    }
   ],
   "source": [
    "while(1):\n",
    "    try:\n",
    "        # Aqui va todo el código propenso a errores\n",
    "        n = float(input(\"Introduce un numero:\\t\"))   # Que pasa si introduce una cadena de caracteres....\n",
    "        m = 4\n",
    "        print(\"{}/{} = {}\".format(n,m,n/m))\n",
    "        break   #Importante romper iteracion si todo sale bien\n",
    "    except:\n",
    "        # Aqui se detecta el momento en que ocurre una excepcion\n",
    "        print(\"Ha ocurrido un error.\\nIntroduce bien el número\")"
   ]
  },
  {
   "cell_type": "code",
   "execution_count": 4,
   "metadata": {},
   "outputs": [
    {
     "name": "stdout",
     "output_type": "stream",
     "text": [
      "Introduce un numero:\tjaaj\n",
      "Ha ocurrido un error.\n",
      "Introduce bien el número\n",
      "Introduce un numero:\tjaja\n",
      "Ha ocurrido un error.\n",
      "Introduce bien el número\n",
      "Introduce un numero:\tds\n",
      "Ha ocurrido un error.\n",
      "Introduce bien el número\n",
      "Introduce un numero:\t32\n",
      "32.0/4 = 8.0\n",
      "Toda la ejecución ha sido exitosa.\n"
     ]
    }
   ],
   "source": [
    "while(1):\n",
    "    try:\n",
    "        # Aqui va todo el código propenso a errores\n",
    "        n = float(input(\"Introduce un numero:\\t\"))   # Que pasa si introduce una cadena de caracteres....\n",
    "        m = 4\n",
    "        print(\"{}/{} = {}\".format(n,m,n/m))\n",
    "    except:\n",
    "        # Aqui se detecta el momento en que ocurre una excepcion\n",
    "        print(\"Ha ocurrido un error.\\nIntroduce bien el número\")\n",
    "    else: # Se ejecutara siempre y cuando no ocurra una excepcion\n",
    "        print(\"Toda la ejecución ha sido exitosa.\")\n",
    "        break   #Importante romper iteracion si todo sale bien"
   ]
  },
  {
   "cell_type": "code",
   "execution_count": 6,
   "metadata": {},
   "outputs": [
    {
     "name": "stdout",
     "output_type": "stream",
     "text": [
      "Introduce un numero:\tjhd\n",
      "Ha ocurrido un error.\n",
      "Introduce bien el número\n",
      "Fin de la iteración\n",
      "Introduce un numero:\thgdf\n",
      "Ha ocurrido un error.\n",
      "Introduce bien el número\n",
      "Fin de la iteración\n",
      "Introduce un numero:\taa\n",
      "Ha ocurrido un error.\n",
      "Introduce bien el número\n",
      "Fin de la iteración\n",
      "Introduce un numero:\t44\n",
      "44.0/4 = 11.0\n",
      "Toda la ejecución ha sido exitosa.\n",
      "Fin de la iteración\n"
     ]
    }
   ],
   "source": [
    "# Hay una sentencia que se permite, todavia y esa finally\n",
    "# ocurra o no ocurra un error\n",
    "while(1):\n",
    "    try:\n",
    "        # Aqui va todo el código propenso a errores\n",
    "        n = float(input(\"Introduce un numero:\\t\"))   # Que pasa si introduce una cadena de caracteres....\n",
    "        m = 4\n",
    "        print(\"{}/{} = {}\".format(n,m,n/m))\n",
    "    except:\n",
    "        # Aqui se detecta el momento en que ocurre una excepcion\n",
    "        print(\"Ha ocurrido un error.\\nIntroduce bien el número\")\n",
    "    else: # Se ejecutara siempre y cuando no ocurra una excepcion\n",
    "        print(\"Toda la ejecución ha sido exitosa.\")\n",
    "        break   #Importante romper iteracion si todo sale bien\n",
    "    finally: # Ocurra o no ocurra un error, se ejecuta\n",
    "        print(\"Fin de la iteración\")"
   ]
  }
 ],
 "metadata": {
  "kernelspec": {
   "display_name": "Python 3",
   "language": "python",
   "name": "python3"
  },
  "language_info": {
   "codemirror_mode": {
    "name": "ipython",
    "version": 3
   },
   "file_extension": ".py",
   "mimetype": "text/x-python",
   "name": "python",
   "nbconvert_exporter": "python",
   "pygments_lexer": "ipython3",
   "version": "3.7.3"
  }
 },
 "nbformat": 4,
 "nbformat_minor": 1
}
