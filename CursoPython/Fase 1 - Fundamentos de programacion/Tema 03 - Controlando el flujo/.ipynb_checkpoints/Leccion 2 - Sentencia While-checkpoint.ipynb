{
 "cells": [
  {
   "cell_type": "markdown",
   "metadata": {
    "collapsed": true
   },
   "source": [
    "# Sentencias iterativas o bucles.\n",
    "### Iterar\n",
    "- Realizar una determinada acción varias veces.\n",
    "- Cada vez que se repite una acción se denomina **iteración**\n",
    "\n",
    "Una de las *magias* de las iteraciones es para **buscar** un elemento o datos en especifico. A pesar de que esta sea una forma muy rudimentaria.\n",
    "\n",
    "#### While\n",
    "- A partir de una expresión relacional o lógica, se repite un bloque de código siempre que dicha expresión sea verdad."
   ]
  },
  {
   "cell_type": "code",
   "execution_count": 1,
   "metadata": {},
   "outputs": [
    {
     "name": "stdout",
     "output_type": "stream",
     "text": [
      "1\n",
      "2\n",
      "3\n",
      "4\n",
      "5\n",
      "6\n",
      "7\n",
      "8\n",
      "9\n",
      "10\n",
      "11\n"
     ]
    }
   ],
   "source": [
    "c = 0\n",
    "while c <= 10:\n",
    "    c += 1\n",
    "    print( c )"
   ]
  },
  {
   "cell_type": "code",
   "execution_count": 3,
   "metadata": {},
   "outputs": [
    {
     "name": "stdout",
     "output_type": "stream",
     "text": [
      "0\n",
      "1\n",
      "2\n",
      "3\n",
      "4\n",
      "5\n"
     ]
    }
   ],
   "source": [
    "c = 0\n",
    "while c <= 5:\n",
    "    print(c)\n",
    "    c += 1"
   ]
  },
  {
   "cell_type": "markdown",
   "metadata": {},
   "source": [
    "Es importante recalcar que la expresión **while** puede, o no, ir acompañada de la sentencia **else** la cual se ejecutará una sola vez, después que la condición no se cumpla ya."
   ]
  },
  {
   "cell_type": "code",
   "execution_count": 5,
   "metadata": {},
   "outputs": [
    {
     "name": "stdout",
     "output_type": "stream",
     "text": [
      "1\n",
      "2\n",
      "3\n",
      "4\n",
      "5\n",
      "6\n",
      "El valor de c es  6 por tanto se ha terminado la iteración.\n"
     ]
    }
   ],
   "source": [
    "c = 0\n",
    "while c <= 5:\n",
    "    c += 1\n",
    "    print(c)\n",
    "else:\n",
    "    print(\"El valor de c es \", c, \"por tanto se ha terminado la iteración.\")"
   ]
  },
  {
   "cell_type": "markdown",
   "metadata": {},
   "source": [
    "De la misma manera, se puede usar la palabra reservada **break** para ***salir del bloque de código una vez que cierta condición se haya cumplido***"
   ]
  },
  {
   "cell_type": "code",
   "execution_count": 8,
   "metadata": {},
   "outputs": [
    {
     "name": "stdout",
     "output_type": "stream",
     "text": [
      "c =  1\n",
      "c =  2\n",
      "c =  3\n",
      "Rompemos el bucle cuando c = 4\n"
     ]
    }
   ],
   "source": [
    "c = 0\n",
    "while c <= 5:\n",
    "    c += 1\n",
    "    if (c == 4):\n",
    "        print (\"Rompemos el bucle cuando c =\",c)\n",
    "        break\n",
    "    print(\"c = \",c)\n",
    "else:\n",
    "    print(\"El valor de c es \", c, \"por tanto se ha terminado la iteración.\")"
   ]
  },
  {
   "cell_type": "markdown",
   "metadata": {},
   "source": [
    "Es importante notar que *una vez que se rompe* o bien se utiliza el **break**, el bloque de código del **else** no se ejecuta tampoco.\n",
    "\n",
    "Aqui es donde una *palabra reservada* aparece también: **continue**, la cual nos **permite saltar ese bloque de código** pero sin romper el bucle."
   ]
  },
  {
   "cell_type": "code",
   "execution_count": 12,
   "metadata": {},
   "outputs": [
    {
     "name": "stdout",
     "output_type": "stream",
     "text": [
      "c =  1\n",
      "c =  2\n",
      "c =  3\n",
      "c =  5\n",
      "c =  6\n",
      "El valor de c es  6 por tanto se ha terminado la iteración.\n"
     ]
    }
   ],
   "source": [
    "c = 0\n",
    "while c <= 5:\n",
    "    c += 1\n",
    "    if (c == 4):\n",
    "        #print (\"Continuamos con la siguiente iteración\")\n",
    "        continue\n",
    "    print(\"c = \",c)\n",
    "else:\n",
    "    print(\"El valor de c es \", c, \"por tanto se ha terminado la iteración.\")"
   ]
  },
  {
   "cell_type": "markdown",
   "metadata": {},
   "source": [
    "Una vez que se ejecute el **continue**, todo aquello que esté debajo de él **no se ejecutará**."
   ]
  },
  {
   "cell_type": "code",
   "execution_count": 13,
   "metadata": {},
   "outputs": [
    {
     "name": "stdout",
     "output_type": "stream",
     "text": [
      "Bienvenidos al menú\n",
      "¿Qué te gustaría hacer? Escribe la opción.\n",
      "    1) Saludar\n",
      "    2) Sumar dos numeros\n",
      "    3) Salir\n",
      "Opción: 1\n",
      "Hola, espero que estés al puro pedo\n",
      "¿Qué te gustaría hacer? Escribe la opción.\n",
      "    1) Saludar\n",
      "    2) Sumar dos numeros\n",
      "    3) Salir\n",
      "Opción: 2\n",
      "Numero 01 = 6\n",
      "Numero 02 = 52\n",
      "La suma es  58.0\n",
      "¿Qué te gustaría hacer? Escribe la opción.\n",
      "    1) Saludar\n",
      "    2) Sumar dos numeros\n",
      "    3) Salir\n",
      "Opción: 4\n",
      "Comando desconociso.\n",
      " Vuelve a intentarlo.\n",
      "¿Qué te gustaría hacer? Escribe la opción.\n",
      "    1) Saludar\n",
      "    2) Sumar dos numeros\n",
      "    3) Salir\n",
      "Opción: 3\n",
      "Hasta luego, ha sido bueno ayudarte\n"
     ]
    }
   ],
   "source": [
    "print(\"Bienvenidos al menú\")\n",
    "while(True):\n",
    "    print(\"\"\"¿Qué te gustaría hacer? Escribe la opción.\n",
    "    1) Saludar\n",
    "    2) Sumar dos numeros\n",
    "    3) Salir\"\"\")\n",
    "    opt = int(input(\"Opción: \"))\n",
    "    if opt == 1:\n",
    "        print(\"Hola, espero que estés al puro pedo\")\n",
    "    elif opt == 2:\n",
    "        num1 = float(input(\"Numero 01 = \"))\n",
    "        num2 = float(input(\"Numero 02 = \"))\n",
    "        print (\"La suma es \",num1 + num2 )\n",
    "    elif opt == 3:\n",
    "        print (\"Hasta luego, ha sido bueno ayudarte\")\n",
    "        break\n",
    "    else:\n",
    "        print (\"Comando desconociso.\\n Vuelve a intentarlo.\")"
   ]
  }
 ],
 "metadata": {
  "kernelspec": {
   "display_name": "Python 3",
   "language": "python",
   "name": "python3"
  },
  "language_info": {
   "codemirror_mode": {
    "name": "ipython",
    "version": 3
   },
   "file_extension": ".py",
   "mimetype": "text/x-python",
   "name": "python",
   "nbconvert_exporter": "python",
   "pygments_lexer": "ipython3",
   "version": "3.6.4"
  }
 },
 "nbformat": 4,
 "nbformat_minor": 1
}
